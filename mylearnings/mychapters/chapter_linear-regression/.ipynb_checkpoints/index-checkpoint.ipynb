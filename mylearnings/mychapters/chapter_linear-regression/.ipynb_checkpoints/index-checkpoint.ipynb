{
 "cells": [
  {
   "cell_type": "markdown",
   "id": "ce144ebe",
   "metadata": {
    "origin_pos": 0
   },
   "source": [
    "# Linear Neural Networks for Regression\n",
    ":label:`chap_regression`\n",
    "\n",
    "Before we worry about making our neural networks deep,\n",
    "it will be helpful to implement some shallow neural networks,\n",
    "for which the inputs connect directly to the outputs.\n",
    "This will prove important for a few reasons.\n",
    "First, rather than getting distracted by complicated architectures,\n",
    "we can focus on the basics of neural network training,\n",
    "including parameterizing the output layer, handling data,\n",
    "specifying a loss function, and training the model.\n",
    "Second, this class of shallow networks happens\n",
    "to comprise the set of linear models,\n",
    "which subsumes many classical methods for statistical prediction,\n",
    "including linear and softmax regression.\n",
    "Understanding these classical tools is pivotal\n",
    "because they are widely used in many contexts\n",
    "and we will often need to use them as baselines\n",
    "when justifying the use of fancier architectures.\n",
    "This chapter will focus narrowly on linear regression\n",
    "and the subsequent chapter will extend our modeling repertoire\n",
    "by developing linear neural networks for classification.\n",
    "\n",
    ":begin_tab:toc\n",
    " - [linear-regression](linear-regression.ipynb)\n",
    " - [oo-design](oo-design.ipynb)\n",
    " - [synthetic-regression-data](synthetic-regression-data.ipynb)\n",
    " - [linear-regression-scratch](linear-regression-scratch.ipynb)\n",
    " - [linear-regression-concise](linear-regression-concise.ipynb)\n",
    " - [generalization](generalization.ipynb)\n",
    " - [weight-decay](weight-decay.ipynb)\n",
    ":end_tab:\n"
   ]
  }
 ],
 "metadata": {
  "kernelspec": {
   "display_name": "Python 3 (ipykernel)",
   "language": "python",
   "name": "python3"
  },
  "language_info": {
   "codemirror_mode": {
    "name": "ipython",
    "version": 3
   },
   "file_extension": ".py",
   "mimetype": "text/x-python",
   "name": "python",
   "nbconvert_exporter": "python",
   "pygments_lexer": "ipython3",
   "version": "3.9.12"
  },
  "toc": {
   "base_numbering": 1,
   "nav_menu": {},
   "number_sections": true,
   "sideBar": true,
   "skip_h1_title": false,
   "title_cell": "Table of Contents",
   "title_sidebar": "Contents",
   "toc_cell": false,
   "toc_position": {},
   "toc_section_display": true,
   "toc_window_display": false
  },
  "varInspector": {
   "cols": {
    "lenName": 16,
    "lenType": 16,
    "lenVar": 40
   },
   "kernels_config": {
    "python": {
     "delete_cmd_postfix": "",
     "delete_cmd_prefix": "del ",
     "library": "var_list.py",
     "varRefreshCmd": "print(var_dic_list())"
    },
    "r": {
     "delete_cmd_postfix": ") ",
     "delete_cmd_prefix": "rm(",
     "library": "var_list.r",
     "varRefreshCmd": "cat(var_dic_list()) "
    }
   },
   "types_to_exclude": [
    "module",
    "function",
    "builtin_function_or_method",
    "instance",
    "_Feature"
   ],
   "window_display": false
  }
 },
 "nbformat": 4,
 "nbformat_minor": 5
}
