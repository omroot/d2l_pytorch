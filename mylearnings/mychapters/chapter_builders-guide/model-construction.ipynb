{
 "cells": [
  {
   "cell_type": "markdown",
   "id": "73d8377e",
   "metadata": {
    "origin_pos": 0
   },
   "source": [
    "# Layers and Modules\n",
    ":label:`sec_model_construction`\n",
    "\n",
    "When we first introduced neural networks,\n",
    "we focused on linear models with a single output.\n",
    "Here, the entire model consists of just a single neuron.\n",
    "Note that a single neuron\n",
    "(i) takes some set of inputs;\n",
    "(ii) generates a corresponding scalar output;\n",
    "and (iii) has a set of associated parameters that can be updated\n",
    "to optimize some objective function of interest.\n",
    "Then, once we started thinking about networks with multiple outputs,\n",
    "we leveraged vectorized arithmetic\n",
    "to characterize an entire layer of neurons.\n",
    "Just like individual neurons,\n",
    "layers (i) take a set of inputs,\n",
    "(ii) generate corresponding outputs,\n",
    "and (iii) are described by a set of tunable parameters.\n",
    "When we worked through softmax regression,\n",
    "a single layer was itself the model.\n",
    "However, even when we subsequently\n",
    "introduced MLPs,\n",
    "we could still think of the model as\n",
    "retaining this same basic structure.\n",
    "\n",
    "Interestingly, for MLPs,\n",
    "both the entire model and its constituent layers\n",
    "share this structure.\n",
    "The entire model takes in raw inputs (the features),\n",
    "generates outputs (the predictions),\n",
    "and possesses parameters\n",
    "(the combined parameters from all constituent layers).\n",
    "Likewise, each individual layer ingests inputs\n",
    "(supplied by the previous layer)\n",
    "generates outputs (the inputs to the subsequent layer),\n",
    "and possesses a set of tunable parameters that are updated\n",
    "according to the signal that flows backwards\n",
    "from the subsequent layer.\n",
    "\n",
    "\n",
    "While you might think that neurons, layers, and models\n",
    "give us enough abstractions to go about our business,\n",
    "it turns out that we often find it convenient\n",
    "to speak about components that are\n",
    "larger than an individual layer\n",
    "but smaller than the entire model.\n",
    "For example, the ResNet-152 architecture,\n",
    "which is wildly popular in computer vision,\n",
    "possesses hundreds of layers.\n",
    "These layers consist of repeating patterns of *groups of layers*. Implementing such a network one layer at a time can grow tedious.\n",
    "This concern is not just hypothetical---such\n",
    "design patterns are common in practice.\n",
    "The ResNet architecture mentioned above\n",
    "won the 2015 ImageNet and COCO computer vision competitions\n",
    "for both recognition and detection :cite:`He.Zhang.Ren.ea.2016`\n",
    "and remains a go-to architecture for many vision tasks.\n",
    "Similar architectures in which layers are arranged\n",
    "in various repeating patterns\n",
    "are now ubiquitous in other domains,\n",
    "including natural language processing and speech.\n",
    "\n",
    "To implement these complex networks,\n",
    "we introduce the concept of a neural network *module*.\n",
    "A module could describe a single layer,\n",
    "a component consisting of multiple layers,\n",
    "or the entire model itself!\n",
    "One benefit of working with the module abstraction\n",
    "is that they can be combined into larger artifacts,\n",
    "often recursively. This is illustrated in :numref:`fig_blocks`. By defining code to generate modules\n",
    "of arbitrary complexity on demand,\n",
    "we can write surprisingly compact code\n",
    "and still implement complex neural networks.\n",
    "\n",
    "![Multiple layers are combined into modules, forming repeating patterns of larger models.](../img/blocks.svg)\n",
    ":label:`fig_blocks`\n",
    "\n",
    "\n",
    "From a programming standpoint, a module is represented by a *class*.\n",
    "Any subclass of it must define a forward propagation method\n",
    "that transforms its input into output\n",
    "and must store any necessary parameters.\n",
    "Note that some modules do not require any parameters at all.\n",
    "Finally a module must possess a backpropagation method,\n",
    "for purposes of calculating gradients.\n",
    "Fortunately, due to some behind-the-scenes magic\n",
    "supplied by the auto differentiation\n",
    "(introduced in :numref:`sec_autograd`)\n",
    "when defining our own module,\n",
    "we only need to worry about parameters\n",
    "and the forward propagation method.\n",
    "\n",
    "[**To begin, we revisit the code\n",
    "that we used to implement MLPs**]\n",
    "(:numref:`sec_mlp`).\n",
    "The following code generates a network\n",
    "with one fully connected hidden layer\n",
    "with 256 units and ReLU activation,\n",
    "followed by a fully connected output layer\n",
    "with 10 units (no activation function).\n"
   ]
  },
  {
   "cell_type": "code",
   "execution_count": 1,
   "id": "8d580406",
   "metadata": {
    "execution": {
     "iopub.execute_input": "2022-12-14T04:43:42.847644Z",
     "iopub.status.busy": "2022-12-14T04:43:42.846788Z",
     "iopub.status.idle": "2022-12-14T04:43:44.145449Z",
     "shell.execute_reply": "2022-12-14T04:43:44.144101Z"
    },
    "origin_pos": 3,
    "tab": [
     "pytorch"
    ]
   },
   "outputs": [
    {
     "name": "stderr",
     "output_type": "stream",
     "text": [
      "/Users/oualid/opt/miniconda3/envs/pytorch/lib/python3.8/site-packages/torch/nn/modules/lazy.py:178: UserWarning: Lazy modules are a new feature under heavy development so changes to the API or functionality can happen at any moment.\n",
      "  warnings.warn('Lazy modules are a new feature under heavy development '\n"
     ]
    },
    {
     "data": {
      "text/plain": [
       "torch.Size([2, 10])"
      ]
     },
     "execution_count": 1,
     "metadata": {},
     "output_type": "execute_result"
    }
   ],
   "source": [
    "import torch\n",
    "from torch import nn\n",
    "from torch.nn import functional as F\n",
    "\n",
    "net = nn.Sequential(nn.LazyLinear(256), nn.ReLU(), nn.LazyLinear(10))\n",
    "\n",
    "X = torch.rand(2, 20)\n",
    "net(X).shape"
   ]
  },
  {
   "cell_type": "markdown",
   "id": "b68da26a",
   "metadata": {
    "origin_pos": 7,
    "tab": [
     "pytorch"
    ]
   },
   "source": [
    "In this example, we constructed\n",
    "our model by instantiating an `nn.Sequential`, with layers in the order\n",
    "that they should be executed passed as arguments.\n",
    "In short, (**`nn.Sequential` defines a special kind of `Module`**),\n",
    "the class that presents a module in PyTorch.\n",
    "It maintains an ordered list of constituent `Module`s.\n",
    "Note that each of the two fully connected layers is an instance of the `Linear` class\n",
    "which is itself a subclass of `Module`.\n",
    "The forward propagation (`forward`) method is also remarkably simple:\n",
    "it chains each module in the list together,\n",
    "passing the output of each as input to the next.\n",
    "Note that until now, we have been invoking our models\n",
    "via the construction `net(X)` to obtain their outputs.\n",
    "This is actually just shorthand for `net.__call__(X)`.\n"
   ]
  },
  {
   "cell_type": "markdown",
   "id": "b404f254",
   "metadata": {
    "origin_pos": 9
   },
   "source": [
    "## [**A Custom Module**]\n",
    "\n",
    "Perhaps the easiest way to develop intuition\n",
    "about how a module works\n",
    "is to implement one ourselves.\n",
    "Before we implement our own custom module,\n",
    "we briefly summarize the basic functionality\n",
    "that each module must provide:\n",
    "\n",
    "\n",
    "1. Ingest input data as arguments to its forward propagation method.\n",
    "1. Generate an output by having the forward propagation method return a value. Note that the output may have a different shape from the input. For example, the first fully connected layer in our model above ingests an input of arbitrary dimension but returns an output of dimension 256.\n",
    "1. Calculate the gradient of its output with respect to its input, which can be accessed via its backpropagation method. Typically this happens automatically.\n",
    "1. Store and provide access to those parameters necessary\n",
    "   to execute the forward propagation computation.\n",
    "1. Initialize model parameters as needed.\n",
    "\n",
    "\n",
    "In the following snippet,\n",
    "we code up a module from scratch\n",
    "corresponding to an MLP\n",
    "with one hidden layer with 256 hidden units,\n",
    "and a 10-dimensional output layer.\n",
    "Note that the `MLP` class below inherits the class that represents a module.\n",
    "We will heavily rely on the parent class's methods,\n",
    "supplying only our own constructor (the `__init__` method in Python) and the forward propagation method.\n"
   ]
  },
  {
   "cell_type": "code",
   "execution_count": 2,
   "id": "3f9d9d8e",
   "metadata": {
    "execution": {
     "iopub.execute_input": "2022-12-14T04:43:44.150100Z",
     "iopub.status.busy": "2022-12-14T04:43:44.149329Z",
     "iopub.status.idle": "2022-12-14T04:43:44.155706Z",
     "shell.execute_reply": "2022-12-14T04:43:44.154569Z"
    },
    "origin_pos": 11,
    "tab": [
     "pytorch"
    ]
   },
   "outputs": [],
   "source": [
    "class MLP(nn.Module):\n",
    "    def __init__(self):\n",
    "        # Call the constructor of the parent class nn.Module to perform\n",
    "        # the necessary initialization\n",
    "        super().__init__()\n",
    "        self.hidden = nn.LazyLinear(256)\n",
    "        self.out = nn.LazyLinear(10)\n",
    "\n",
    "    # Define the forward propagation of the model, that is, how to return the\n",
    "    # required model output based on the input X\n",
    "    def forward(self, X):\n",
    "        return self.out(F.relu(self.hidden(X)))"
   ]
  },
  {
   "cell_type": "markdown",
   "id": "bcb0dabc",
   "metadata": {
    "origin_pos": 14
   },
   "source": [
    "Let's first focus on the forward propagation method.\n",
    "Note that it takes `X` as input,\n",
    "calculates the hidden representation\n",
    "with the activation function applied,\n",
    "and outputs its logits.\n",
    "In this `MLP` implementation,\n",
    "both layers are instance variables.\n",
    "To see why this is reasonable, imagine\n",
    "instantiating two MLPs, `net1` and `net2`,\n",
    "and training them on different data.\n",
    "Naturally, we would expect them\n",
    "to represent two different learned models.\n",
    "\n",
    "We [**instantiate the MLP's layers**]\n",
    "in the constructor\n",
    "(**and subsequently invoke these layers**)\n",
    "on each call to the forward propagation method.\n",
    "Note a few key details.\n",
    "First, our customized `__init__` method\n",
    "invokes the parent class's `__init__` method\n",
    "via `super().__init__()`\n",
    "sparing us the pain of restating\n",
    "boilerplate code applicable to most modules.\n",
    "We then instantiate our two fully connected layers,\n",
    "assigning them to `self.hidden` and `self.out`.\n",
    "Note that unless we implement a new layer,\n",
    "we need not worry about the backpropagation method\n",
    "or parameter initialization.\n",
    "The system will generate these methods automatically.\n",
    "Let's try this out.\n"
   ]
  },
  {
   "cell_type": "code",
   "execution_count": 3,
   "id": "5027eff6",
   "metadata": {
    "execution": {
     "iopub.execute_input": "2022-12-14T04:43:44.160021Z",
     "iopub.status.busy": "2022-12-14T04:43:44.159365Z",
     "iopub.status.idle": "2022-12-14T04:43:44.167336Z",
     "shell.execute_reply": "2022-12-14T04:43:44.166480Z"
    },
    "origin_pos": 15,
    "tab": [
     "pytorch"
    ]
   },
   "outputs": [
    {
     "data": {
      "text/plain": [
       "torch.Size([2, 10])"
      ]
     },
     "execution_count": 3,
     "metadata": {},
     "output_type": "execute_result"
    }
   ],
   "source": [
    "net = MLP()\n",
    "net(X).shape"
   ]
  },
  {
   "cell_type": "markdown",
   "id": "c438c965",
   "metadata": {
    "origin_pos": 17
   },
   "source": [
    "A key virtue of the module abstraction is its versatility.\n",
    "We can subclass a module to create layers\n",
    "(such as the fully connected layer class),\n",
    "entire models (such as the `MLP` class above),\n",
    "or various components of intermediate complexity.\n",
    "We exploit this versatility\n",
    "throughout the following chapters,\n",
    "such as when addressing\n",
    "convolutional neural networks.\n",
    "\n",
    "\n",
    "## [**The Sequential Module**]\n",
    ":label:`subsec_model-construction-sequential`\n",
    "\n",
    "We can now take a closer look\n",
    "at how the `Sequential` class works.\n",
    "Recall that `Sequential` was designed\n",
    "to daisy-chain other modules together.\n",
    "To build our own simplified `MySequential`,\n",
    "we just need to define two key methods:\n",
    "\n",
    "1. A method to append modules one by one to a list.\n",
    "1. A forward propagation method to pass an input through the chain of modules, in the same order as they were appended.\n",
    "\n",
    "The following `MySequential` class delivers the same\n",
    "functionality of the default `Sequential` class.\n"
   ]
  },
  {
   "cell_type": "code",
   "execution_count": 21,
   "id": "1e5c1437",
   "metadata": {
    "execution": {
     "iopub.execute_input": "2022-12-14T04:43:44.171115Z",
     "iopub.status.busy": "2022-12-14T04:43:44.170516Z",
     "iopub.status.idle": "2022-12-14T04:43:44.175493Z",
     "shell.execute_reply": "2022-12-14T04:43:44.174713Z"
    },
    "origin_pos": 19,
    "tab": [
     "pytorch"
    ]
   },
   "outputs": [],
   "source": [
    "class MySequential(nn.Module):\n",
    "    def __init__(self, *args):\n",
    "        super().__init__()\n",
    "        for idx, module in enumerate(args):\n",
    "            self.add_module(str(idx), module)\n",
    "\n",
    "    def forward(self, X):\n",
    "        for module in self.children():\n",
    "            X = module(X)\n",
    "        return X"
   ]
  },
  {
   "cell_type": "markdown",
   "id": "86aeaaa2",
   "metadata": {
    "origin_pos": 23,
    "tab": [
     "pytorch"
    ]
   },
   "source": [
    "In the `__init__` method, we add every module\n",
    "by calling the `add_modules` method. These modules can be accessed by the `children` method later.\n",
    "In this way the system knows the added modules,\n",
    "and it will properly initialize each module's parameters.\n"
   ]
  },
  {
   "cell_type": "markdown",
   "id": "40f67723",
   "metadata": {
    "origin_pos": 24
   },
   "source": [
    "When our `MySequential`'s forward propagation method is invoked,\n",
    "each added module is executed\n",
    "in the order in which they were added.\n",
    "We can now reimplement an MLP\n",
    "using our `MySequential` class.\n"
   ]
  },
  {
   "cell_type": "code",
   "execution_count": 22,
   "id": "4d7cf802",
   "metadata": {
    "execution": {
     "iopub.execute_input": "2022-12-14T04:43:44.179024Z",
     "iopub.status.busy": "2022-12-14T04:43:44.178424Z",
     "iopub.status.idle": "2022-12-14T04:43:44.185302Z",
     "shell.execute_reply": "2022-12-14T04:43:44.184551Z"
    },
    "origin_pos": 26,
    "tab": [
     "pytorch"
    ]
   },
   "outputs": [
    {
     "data": {
      "text/plain": [
       "torch.Size([2, 10])"
      ]
     },
     "execution_count": 22,
     "metadata": {},
     "output_type": "execute_result"
    }
   ],
   "source": [
    "net = MySequential(nn.LazyLinear(256), nn.ReLU(), nn.LazyLinear(10))\n",
    "net(X).shape"
   ]
  },
  {
   "cell_type": "code",
   "execution_count": 23,
   "id": "09c42461",
   "metadata": {},
   "outputs": [
    {
     "data": {
      "text/plain": [
       "OrderedDict([('0.weight',\n",
       "              tensor([[ 0.1072,  0.0608, -0.1266,  ..., -0.1447, -0.1855,  0.0665],\n",
       "                      [ 0.1600,  0.0557,  0.0080,  ...,  0.1295,  0.0877,  0.1884],\n",
       "                      [-0.0271, -0.1910, -0.1270,  ..., -0.0488,  0.1253, -0.0635],\n",
       "                      ...,\n",
       "                      [ 0.1687, -0.1557,  0.0498,  ..., -0.1824,  0.0289,  0.2226],\n",
       "                      [ 0.1189, -0.2127,  0.0676,  ...,  0.0922,  0.1315, -0.1311],\n",
       "                      [-0.0941, -0.1673,  0.0849,  ...,  0.0656, -0.0384, -0.0811]])),\n",
       "             ('0.bias',\n",
       "              tensor([-0.1453, -0.2050,  0.0905, -0.1283,  0.1434,  0.0008,  0.2154,  0.0636,\n",
       "                       0.1678, -0.2192, -0.1621, -0.0026,  0.1581,  0.0104,  0.1056, -0.0059,\n",
       "                      -0.0655,  0.2234,  0.0390, -0.0183,  0.1626, -0.1994,  0.1861,  0.2196,\n",
       "                       0.1656, -0.1966, -0.0704,  0.0960, -0.1775, -0.1338, -0.0363, -0.0188,\n",
       "                      -0.0752, -0.1260,  0.0408,  0.1509, -0.0478, -0.0517, -0.0336,  0.1316,\n",
       "                      -0.0461,  0.0516, -0.0517, -0.1280, -0.1158,  0.1830, -0.1691, -0.1708,\n",
       "                      -0.1604,  0.0613,  0.1848,  0.1587, -0.0598,  0.1357,  0.1233, -0.0014,\n",
       "                       0.0937, -0.0123, -0.1483, -0.2079,  0.2164,  0.0543, -0.0429,  0.0990,\n",
       "                       0.1985, -0.0746, -0.1071,  0.0427,  0.1203, -0.1985,  0.1544,  0.1459,\n",
       "                      -0.0706, -0.1749,  0.2133,  0.1369,  0.0660, -0.0999, -0.0118, -0.0219,\n",
       "                      -0.2139,  0.2192,  0.0451,  0.1199, -0.1314, -0.1399, -0.0121, -0.1275,\n",
       "                      -0.0636,  0.0149, -0.1468,  0.1542,  0.2219,  0.2207,  0.1693, -0.1273,\n",
       "                       0.1697, -0.1620, -0.2119, -0.0130, -0.1613,  0.0222,  0.1144, -0.0276,\n",
       "                       0.1029,  0.0665,  0.1675, -0.0620, -0.0617,  0.2181, -0.0837, -0.2123,\n",
       "                       0.0606, -0.0235, -0.0709,  0.1201, -0.0778, -0.0020, -0.0228,  0.2068,\n",
       "                       0.1597, -0.0767, -0.1789,  0.2107,  0.0662, -0.1452,  0.0267,  0.0985,\n",
       "                      -0.0416, -0.0669, -0.1878, -0.1590, -0.0417, -0.2214, -0.1512,  0.1406,\n",
       "                      -0.0253,  0.0086, -0.0809, -0.1996, -0.0292,  0.0603,  0.0068,  0.0186,\n",
       "                      -0.0917, -0.2009, -0.1854,  0.0610,  0.1356,  0.0751,  0.1367, -0.0967,\n",
       "                       0.0539, -0.1668,  0.1515,  0.2193, -0.1687,  0.1138, -0.0007,  0.1188,\n",
       "                      -0.0892,  0.1026, -0.1332,  0.0762,  0.0972,  0.0435,  0.0593, -0.0482,\n",
       "                       0.0640,  0.0821, -0.0813,  0.0631, -0.1168, -0.1353, -0.1614, -0.1677,\n",
       "                      -0.0207,  0.0527, -0.1660,  0.0004,  0.2222,  0.1459, -0.1101, -0.0240,\n",
       "                       0.2036, -0.1372, -0.0464, -0.0978,  0.1305, -0.0906, -0.1382, -0.1210,\n",
       "                       0.0821, -0.1143,  0.0384, -0.0929,  0.0950,  0.0888,  0.1352,  0.1806,\n",
       "                      -0.1838,  0.0723,  0.0690, -0.2084, -0.2134,  0.1217,  0.0052,  0.0428,\n",
       "                       0.1011,  0.0578, -0.1011,  0.0123, -0.1324,  0.1809,  0.1713,  0.2188,\n",
       "                      -0.0173,  0.1871, -0.1738, -0.1566,  0.1589, -0.0999, -0.1406, -0.0202,\n",
       "                      -0.1097,  0.1248, -0.0070,  0.0177,  0.1240, -0.2190, -0.1651,  0.1491,\n",
       "                      -0.1174, -0.1558,  0.1323, -0.1408,  0.0347, -0.0515, -0.1097, -0.1719,\n",
       "                      -0.1505,  0.2084,  0.1467, -0.0166,  0.1118, -0.0867, -0.1344, -0.0745,\n",
       "                      -0.0356, -0.0576, -0.0027, -0.1401,  0.0773, -0.1363,  0.2135, -0.1542])),\n",
       "             ('2.weight',\n",
       "              tensor([[-0.0023, -0.0123, -0.0615,  ..., -0.0586, -0.0211,  0.0197],\n",
       "                      [ 0.0195, -0.0584, -0.0117,  ...,  0.0023,  0.0240,  0.0163],\n",
       "                      [-0.0594, -0.0552, -0.0232,  ...,  0.0079,  0.0583,  0.0574],\n",
       "                      ...,\n",
       "                      [ 0.0381,  0.0507,  0.0069,  ...,  0.0542,  0.0023, -0.0312],\n",
       "                      [ 0.0597,  0.0351,  0.0121,  ...,  0.0111, -0.0585, -0.0597],\n",
       "                      [ 0.0479,  0.0519,  0.0106,  ...,  0.0380, -0.0539, -0.0596]])),\n",
       "             ('2.bias',\n",
       "              tensor([-0.0451, -0.0488, -0.0304,  0.0409,  0.0589, -0.0565,  0.0597, -0.0396,\n",
       "                      -0.0133, -0.0284]))])"
      ]
     },
     "execution_count": 23,
     "metadata": {},
     "output_type": "execute_result"
    }
   ],
   "source": [
    "net.state_dict()"
   ]
  },
  {
   "cell_type": "code",
   "execution_count": 24,
   "id": "5906db0e",
   "metadata": {},
   "outputs": [
    {
     "name": "stdout",
     "output_type": "stream",
     "text": [
      "0.weight torch.Size([256, 20])\n",
      "0.bias torch.Size([256])\n",
      "2.weight torch.Size([10, 256])\n",
      "2.bias torch.Size([10])\n"
     ]
    }
   ],
   "source": [
    "for name, param in net.state_dict().items():\n",
    "    print(name, param.size())"
   ]
  },
  {
   "cell_type": "markdown",
   "id": "4328e72b",
   "metadata": {
    "origin_pos": 29
   },
   "source": [
    "Note that this use of `MySequential`\n",
    "is identical to the code we previously wrote\n",
    "for the `Sequential` class\n",
    "(as described in :numref:`sec_mlp`).\n",
    "\n",
    "\n",
    "## [**Executing Code in the Forward Propagation Method**]\n",
    "\n",
    "The `Sequential` class makes model construction easy,\n",
    "allowing us to assemble new architectures\n",
    "without having to define our own class.\n",
    "However, not all architectures are simple daisy chains.\n",
    "When greater flexibility is required,\n",
    "we will want to define our own blocks.\n",
    "For example, we might want to execute\n",
    "Python's control flow within the forward propagation method.\n",
    "Moreover, we might want to perform\n",
    "arbitrary mathematical operations,\n",
    "not simply relying on predefined neural network layers.\n",
    "\n",
    "You might have noticed that until now,\n",
    "all of the operations in our networks\n",
    "have acted upon our network's activations\n",
    "and its parameters.\n",
    "Sometimes, however, we might want to\n",
    "incorporate terms\n",
    "that are neither the result of previous layers\n",
    "nor updatable parameters.\n",
    "We call these *constant parameters*.\n",
    "Say for example that we want a layer\n",
    "that calculates the function\n",
    "$f(\\mathbf{x},\\mathbf{w}) = c \\cdot \\mathbf{w}^\\top \\mathbf{x}$,\n",
    "where $\\mathbf{x}$ is the input, $\\mathbf{w}$ is our parameter,\n",
    "and $c$ is some specified constant\n",
    "that is not updated during optimization.\n",
    "So we implement a `FixedHiddenMLP` class as follows.\n"
   ]
  },
  {
   "cell_type": "code",
   "execution_count": 6,
   "id": "5705e7c1",
   "metadata": {
    "execution": {
     "iopub.execute_input": "2022-12-14T04:43:44.188727Z",
     "iopub.status.busy": "2022-12-14T04:43:44.188147Z",
     "iopub.status.idle": "2022-12-14T04:43:44.193784Z",
     "shell.execute_reply": "2022-12-14T04:43:44.193017Z"
    },
    "origin_pos": 31,
    "tab": [
     "pytorch"
    ]
   },
   "outputs": [],
   "source": [
    "class FixedHiddenMLP(nn.Module):\n",
    "    def __init__(self):\n",
    "        super().__init__()\n",
    "        # Random weight parameters that will not compute gradients and\n",
    "        # therefore keep constant during training\n",
    "        self.rand_weight = torch.rand((20, 20))\n",
    "        self.linear = nn.LazyLinear(20)\n",
    "\n",
    "    def forward(self, X):\n",
    "        X = self.linear(X)\n",
    "        X = F.relu(X @ self.rand_weight + 1)\n",
    "        # Reuse the fully connected layer. This is equivalent to sharing\n",
    "        # parameters with two fully connected layers\n",
    "        X = self.linear(X)\n",
    "        # Control flow\n",
    "        while X.abs().sum() > 1:\n",
    "            X /= 2\n",
    "        return X.sum()"
   ]
  },
  {
   "cell_type": "markdown",
   "id": "b6b38e10",
   "metadata": {
    "origin_pos": 34
   },
   "source": [
    "In this `FixedHiddenMLP` model,\n",
    "we implement a hidden layer whose weights\n",
    "(`self.rand_weight`) are initialized randomly\n",
    "at instantiation and are thereafter constant.\n",
    "This weight is not a model parameter\n",
    "and thus it is never updated by backpropagation.\n",
    "The network then passes the output of this \"fixed\" layer\n",
    "through a fully connected layer.\n",
    "\n",
    "Note that before returning the output,\n",
    "our model did something unusual.\n",
    "We ran a while-loop, testing\n",
    "on the condition its $\\ell_1$ norm is larger than $1$,\n",
    "and dividing our output vector by $2$\n",
    "until it satisfied the condition.\n",
    "Finally, we returned the sum of the entries in `X`.\n",
    "To our knowledge, no standard neural network\n",
    "performs this operation.\n",
    "Note that this particular operation may not be useful\n",
    "in any real-world task.\n",
    "Our point is only to show you how to integrate\n",
    "arbitrary code into the flow of your\n",
    "neural network computations.\n"
   ]
  },
  {
   "cell_type": "code",
   "execution_count": 7,
   "id": "7c0900d0",
   "metadata": {
    "execution": {
     "iopub.execute_input": "2022-12-14T04:43:44.197140Z",
     "iopub.status.busy": "2022-12-14T04:43:44.196564Z",
     "iopub.status.idle": "2022-12-14T04:43:44.204252Z",
     "shell.execute_reply": "2022-12-14T04:43:44.203506Z"
    },
    "origin_pos": 35,
    "tab": [
     "pytorch"
    ]
   },
   "outputs": [
    {
     "data": {
      "text/plain": [
       "tensor(0.1640, grad_fn=<SumBackward0>)"
      ]
     },
     "execution_count": 7,
     "metadata": {},
     "output_type": "execute_result"
    }
   ],
   "source": [
    "net = FixedHiddenMLP()\n",
    "net(X)"
   ]
  },
  {
   "cell_type": "markdown",
   "id": "dd629818",
   "metadata": {
    "origin_pos": 37
   },
   "source": [
    "We can [**mix and match various\n",
    "ways of assembling modules together.**]\n",
    "In the following example, we nest modules\n",
    "in some creative ways.\n"
   ]
  },
  {
   "cell_type": "code",
   "execution_count": 8,
   "id": "e1601d00",
   "metadata": {
    "execution": {
     "iopub.execute_input": "2022-12-14T04:43:44.207911Z",
     "iopub.status.busy": "2022-12-14T04:43:44.207335Z",
     "iopub.status.idle": "2022-12-14T04:43:44.218555Z",
     "shell.execute_reply": "2022-12-14T04:43:44.217597Z"
    },
    "origin_pos": 39,
    "tab": [
     "pytorch"
    ]
   },
   "outputs": [
    {
     "data": {
      "text/plain": [
       "tensor(-0.0443, grad_fn=<SumBackward0>)"
      ]
     },
     "execution_count": 8,
     "metadata": {},
     "output_type": "execute_result"
    }
   ],
   "source": [
    "class NestMLP(nn.Module):\n",
    "    def __init__(self):\n",
    "        super().__init__()\n",
    "        self.net = nn.Sequential(nn.LazyLinear(64), nn.ReLU(),\n",
    "                                 nn.LazyLinear(32), nn.ReLU())\n",
    "        self.linear = nn.LazyLinear(16)\n",
    "\n",
    "    def forward(self, X):\n",
    "        return self.linear(self.net(X))\n",
    "\n",
    "chimera = nn.Sequential(NestMLP(), nn.LazyLinear(20), FixedHiddenMLP())\n",
    "chimera(X)"
   ]
  },
  {
   "cell_type": "markdown",
   "id": "1c0c3588",
   "metadata": {
    "origin_pos": 42
   },
   "source": [
    "## Summary\n",
    "\n",
    "Layers are modules.\n",
    "Many layers can comprise a module.\n",
    "Many modules can comprise a module.\n",
    "\n",
    "A module can contain code.\n",
    "Modules take care of lots of housekeeping, including parameter initialization and backpropagation.\n",
    "Sequential concatenations of layers and modules are handled by the `Sequential` module.\n",
    "\n",
    "\n",
    "## Exercises\n",
    "\n",
    "1. What kinds of problems will occur if you change `MySequential` to store modules in a Python list?\n",
    "1. Implement a module that takes two modules as an argument, say `net1` and `net2` and returns the concatenated output of both networks in the forward propagation. This is also called a parallel module.\n",
    "1. Assume that you want to concatenate multiple instances of the same network. Implement a factory function that generates multiple instances of the same module and build a larger network from it.\n"
   ]
  },
  {
   "cell_type": "markdown",
   "id": "15fd98ea",
   "metadata": {},
   "source": [
    "## Answers"
   ]
  },
  {
   "cell_type": "markdown",
   "id": "a15f08c9",
   "metadata": {},
   "source": [
    "### Q1"
   ]
  },
  {
   "cell_type": "code",
   "execution_count": 17,
   "id": "2bf83da3",
   "metadata": {},
   "outputs": [],
   "source": [
    "class MySequentialList(nn.Module):\n",
    "    def __init__(self, *args):\n",
    "        super().__init__()\n",
    "        self.modules = []\n",
    "        for idx, module in enumerate(args):\n",
    "            self.modules.append(module)\n",
    "    def forward(self, X):\n",
    "        for module in self.modules:\n",
    "            X = module(X)\n",
    "        return X"
   ]
  },
  {
   "cell_type": "code",
   "execution_count": 18,
   "id": "7fa05a15",
   "metadata": {},
   "outputs": [
    {
     "name": "stderr",
     "output_type": "stream",
     "text": [
      "/Users/oualid/opt/miniconda3/envs/pytorch/lib/python3.8/site-packages/torch/nn/modules/lazy.py:178: UserWarning: Lazy modules are a new feature under heavy development so changes to the API or functionality can happen at any moment.\n",
      "  warnings.warn('Lazy modules are a new feature under heavy development '\n"
     ]
    },
    {
     "data": {
      "text/plain": [
       "torch.Size([2, 10])"
      ]
     },
     "execution_count": 18,
     "metadata": {},
     "output_type": "execute_result"
    }
   ],
   "source": [
    "net = MySequentialList(nn.LazyLinear(256), nn.ReLU(), nn.LazyLinear(10))\n",
    "net(X).shape"
   ]
  },
  {
   "cell_type": "code",
   "execution_count": 20,
   "id": "27cd9b4f",
   "metadata": {},
   "outputs": [
    {
     "data": {
      "text/plain": [
       "OrderedDict()"
      ]
     },
     "execution_count": 20,
     "metadata": {},
     "output_type": "execute_result"
    }
   ],
   "source": [
    "net.state_dict()"
   ]
  },
  {
   "cell_type": "code",
   "execution_count": 19,
   "id": "0279f65c",
   "metadata": {},
   "outputs": [],
   "source": [
    "for name, param in net.state_dict().items():\n",
    "    print(name, param.size())"
   ]
  },
  {
   "cell_type": "markdown",
   "id": "0f514af2",
   "metadata": {},
   "source": [
    "### Q2"
   ]
  },
  {
   "cell_type": "code",
   "execution_count": 35,
   "id": "e7d03ffb",
   "metadata": {},
   "outputs": [],
   "source": [
    "class ParallelModule(nn.Module):\n",
    "    def __init__(self, net1, net2):\n",
    "        super().__init__()\n",
    "        self.net1 = net1\n",
    "        self.net2 = net2\n",
    "    \n",
    "    def forward(self, X):\n",
    "        return torch.cat((self.net1(X), self.net2(X)), 0)\n",
    "\n"
   ]
  },
  {
   "cell_type": "code",
   "execution_count": 36,
   "id": "52d22c22",
   "metadata": {},
   "outputs": [],
   "source": [
    "net1 = MLP()\n",
    "net2 = MLP()"
   ]
  },
  {
   "cell_type": "code",
   "execution_count": 37,
   "id": "d9493931",
   "metadata": {},
   "outputs": [
    {
     "data": {
      "text/plain": [
       "tensor([[ 0.0654,  0.2132, -0.0674,  0.0294, -0.1722, -0.4020, -0.1875,  0.3244,\n",
       "          0.0231, -0.1728],\n",
       "        [ 0.1124,  0.1891, -0.0395, -0.0725, -0.0474, -0.3428, -0.0707,  0.1566,\n",
       "          0.0645,  0.0330]], grad_fn=<AddmmBackward>)"
      ]
     },
     "execution_count": 37,
     "metadata": {},
     "output_type": "execute_result"
    }
   ],
   "source": [
    "net1(X)"
   ]
  },
  {
   "cell_type": "code",
   "execution_count": 38,
   "id": "8861b2bd",
   "metadata": {},
   "outputs": [],
   "source": [
    "pNet = ParallelModule( net1, net2)"
   ]
  },
  {
   "cell_type": "code",
   "execution_count": 39,
   "id": "3d75aca9",
   "metadata": {},
   "outputs": [
    {
     "data": {
      "text/plain": [
       "tensor([[ 0.0654,  0.2132, -0.0674,  0.0294, -0.1722, -0.4020, -0.1875,  0.3244,\n",
       "          0.0231, -0.1728],\n",
       "        [ 0.1124,  0.1891, -0.0395, -0.0725, -0.0474, -0.3428, -0.0707,  0.1566,\n",
       "          0.0645,  0.0330],\n",
       "        [ 0.0298, -0.4000,  0.0397,  0.1052,  0.0299, -0.1469,  0.0111,  0.0896,\n",
       "         -0.0819,  0.0485],\n",
       "        [ 0.1245, -0.2595, -0.0049, -0.0303, -0.0304, -0.0160, -0.0737, -0.0676,\n",
       "         -0.0476,  0.0192]], grad_fn=<CatBackward>)"
      ]
     },
     "execution_count": 39,
     "metadata": {},
     "output_type": "execute_result"
    }
   ],
   "source": [
    "pNet(X)"
   ]
  },
  {
   "cell_type": "markdown",
   "id": "ffb71c58",
   "metadata": {},
   "source": [
    "### Q3 "
   ]
  },
  {
   "cell_type": "code",
   "execution_count": 47,
   "id": "2e090b6b",
   "metadata": {},
   "outputs": [],
   "source": [
    "class FactoryModule(nn.Module):\n",
    "    def __init__(self,   k):\n",
    "        super().__init__()\n",
    "        modules=[]\n",
    "        for i in range(k):\n",
    "            modules.append(MLP())\n",
    "        self.fnet = nn.Sequential(*modules)\n",
    "    def forward(self, X):\n",
    "        return self.fnet(X)\n",
    "\n"
   ]
  },
  {
   "cell_type": "code",
   "execution_count": 49,
   "id": "e7cec235",
   "metadata": {},
   "outputs": [],
   "source": [
    "n=5"
   ]
  },
  {
   "cell_type": "code",
   "execution_count": 50,
   "id": "e3675a4c",
   "metadata": {},
   "outputs": [],
   "source": [
    "fNet = FactoryModule(n)"
   ]
  },
  {
   "cell_type": "code",
   "execution_count": 51,
   "id": "b82244d6",
   "metadata": {},
   "outputs": [
    {
     "data": {
      "text/plain": [
       "tensor([[-0.1806, -0.0510, -0.1025,  0.0401, -0.2208, -0.0305, -0.0714,  0.0054,\n",
       "          0.2012,  0.0559],\n",
       "        [-0.1805, -0.0510, -0.1024,  0.0400, -0.2206, -0.0307, -0.0716,  0.0052,\n",
       "          0.2012,  0.0558]], grad_fn=<AddmmBackward>)"
      ]
     },
     "execution_count": 51,
     "metadata": {},
     "output_type": "execute_result"
    }
   ],
   "source": [
    "\n",
    "fNet(X)"
   ]
  },
  {
   "cell_type": "markdown",
   "id": "d845adeb",
   "metadata": {
    "origin_pos": 44,
    "tab": [
     "pytorch"
    ]
   },
   "source": [
    "[Discussions](https://discuss.d2l.ai/t/55)\n"
   ]
  }
 ],
 "metadata": {
  "kernelspec": {
   "display_name": "Python 3.8 (pytorch)",
   "language": "python",
   "name": "pytorch"
  },
  "language_info": {
   "codemirror_mode": {
    "name": "ipython",
    "version": 3
   },
   "file_extension": ".py",
   "mimetype": "text/x-python",
   "name": "python",
   "nbconvert_exporter": "python",
   "pygments_lexer": "ipython3",
   "version": "3.8.13"
  },
  "toc": {
   "base_numbering": 1,
   "nav_menu": {},
   "number_sections": true,
   "sideBar": true,
   "skip_h1_title": false,
   "title_cell": "Table of Contents",
   "title_sidebar": "Contents",
   "toc_cell": false,
   "toc_position": {},
   "toc_section_display": true,
   "toc_window_display": false
  },
  "varInspector": {
   "cols": {
    "lenName": 16,
    "lenType": 16,
    "lenVar": 40
   },
   "kernels_config": {
    "python": {
     "delete_cmd_postfix": "",
     "delete_cmd_prefix": "del ",
     "library": "var_list.py",
     "varRefreshCmd": "print(var_dic_list())"
    },
    "r": {
     "delete_cmd_postfix": ") ",
     "delete_cmd_prefix": "rm(",
     "library": "var_list.r",
     "varRefreshCmd": "cat(var_dic_list()) "
    }
   },
   "types_to_exclude": [
    "module",
    "function",
    "builtin_function_or_method",
    "instance",
    "_Feature"
   ],
   "window_display": false
  }
 },
 "nbformat": 4,
 "nbformat_minor": 5
}
