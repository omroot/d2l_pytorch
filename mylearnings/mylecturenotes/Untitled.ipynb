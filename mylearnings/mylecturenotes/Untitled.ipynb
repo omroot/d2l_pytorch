{
 "cells": [
  {
   "cell_type": "code",
   "execution_count": null,
   "id": "cf9f4a7b",
   "metadata": {},
   "outputs": [],
   "source": [
    "\n",
    "\n",
    "\n"
   ]
  },
  {
   "cell_type": "code",
   "execution_count": null,
   "id": "c9ff2ad6",
   "metadata": {},
   "outputs": [],
   "source": []
  },
  {
   "cell_type": "code",
   "execution_count": null,
   "id": "822662f4",
   "metadata": {},
   "outputs": [],
   "source": []
  },
  {
   "cell_type": "markdown",
   "id": "27b67ada",
   "metadata": {},
   "source": [
    "Let a security $i$ have  a treadable price $p_i$ with moments: $\\mathbb{E}[p_i]$, and   $\\mathbb{Var}[p_i]$ ... \n",
    "\n",
    "Let $\\tilde{p}_i$ be the fair value of the security ... \n",
    "\n",
    "\n",
    "Let $t_i$ an order with side $S_i=-1$ (a sell order, we are buying, client is selling) that we trade at a price $x_i$, then we achieve an profit of :\n",
    "\n",
    "$$ \\pi_i (x_i)= \\tilde{p}_i - x_i$$\n",
    "\n",
    "\n",
    "Since  we are buying , the higher our bid $x_i$, the more likely we would win the trade, the lower  our bid $x_i$, the less likely we would win the trade.\n",
    "\n",
    "The probability of winning this trade is then the probability that the tradeable price is less than our bid, i.e., our bid is attractive enough for seller:\n",
    "\n",
    "$$P(p_i < x_i)$$\n",
    "\n",
    "\n",
    "If we assume $p_i$ follows a normal distribution, we learn $\\mathbb{E}[p_i]$, and   $\\mathbb{Var}[p_i]$ from some machine learning , then we can evaluate the probability of winning $P(p_i < x_i)$ at multiple values of $x_i$:\n",
    "\n",
    "$$ x_{i,1}, x_{i,2}, \\cdots, x_{i,K} $$\n",
    "\n",
    "which means we can evaluate our profit at multiple bids:\n",
    "\n",
    "\n",
    "$$ \\pi_i (x_{i,1}), \\pi_i (x_{i,2}), \\cdots, \\pi_i (x_{i,K}) $$\n",
    "\n",
    "\n",
    "Obviously, we would want to pick the bid that we can win the most but also generate the highest profit from, i.e., \n",
    "\n",
    "$$ \\pi_i (x_{i,1})P(p_i < x_{i,1}), \\pi_i (x_{i,2})P(p_i < x_{i,2}), \\cdots, \\pi_i (x_{i,K})P(p_i < x_{i,K}) $$\n",
    "\n",
    "in other words, the optimal bid is \n",
    "\n",
    "$$ x_i^{*} = \\underset{k=1,\\cdots,K}{\\text{argmax }}    \\pi_i (x_{i,k})P(p_i < x_{i,k}) $$\n",
    "\n",
    "\n",
    "The total expected value from this order can be approximated as \n",
    "\n",
    "$$ \\sum_{k=1}^K  \\pi_i (x_{i,k})P(p_i < x_{i,k}) $$\n"
   ]
  },
  {
   "cell_type": "code",
   "execution_count": null,
   "id": "88b7ac70",
   "metadata": {},
   "outputs": [],
   "source": []
  }
 ],
 "metadata": {
  "kernelspec": {
   "display_name": "Python 3.8 (pytorch)",
   "language": "python",
   "name": "pytorch"
  },
  "language_info": {
   "codemirror_mode": {
    "name": "ipython",
    "version": 3
   },
   "file_extension": ".py",
   "mimetype": "text/x-python",
   "name": "python",
   "nbconvert_exporter": "python",
   "pygments_lexer": "ipython3",
   "version": "3.8.13"
  },
  "toc": {
   "base_numbering": 1,
   "nav_menu": {},
   "number_sections": true,
   "sideBar": true,
   "skip_h1_title": false,
   "title_cell": "Table of Contents",
   "title_sidebar": "Contents",
   "toc_cell": false,
   "toc_position": {},
   "toc_section_display": true,
   "toc_window_display": false
  },
  "varInspector": {
   "cols": {
    "lenName": 16,
    "lenType": 16,
    "lenVar": 40
   },
   "kernels_config": {
    "python": {
     "delete_cmd_postfix": "",
     "delete_cmd_prefix": "del ",
     "library": "var_list.py",
     "varRefreshCmd": "print(var_dic_list())"
    },
    "r": {
     "delete_cmd_postfix": ") ",
     "delete_cmd_prefix": "rm(",
     "library": "var_list.r",
     "varRefreshCmd": "cat(var_dic_list()) "
    }
   },
   "types_to_exclude": [
    "module",
    "function",
    "builtin_function_or_method",
    "instance",
    "_Feature"
   ],
   "window_display": false
  }
 },
 "nbformat": 4,
 "nbformat_minor": 5
}
