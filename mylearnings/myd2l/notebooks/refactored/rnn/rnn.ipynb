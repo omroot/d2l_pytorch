{
 "cells": [
  {
   "cell_type": "code",
   "execution_count": null,
   "id": "79f857d0",
   "metadata": {},
   "outputs": [],
   "source": []
  },
  {
   "cell_type": "code",
   "execution_count": 1,
   "id": "80022399",
   "metadata": {},
   "outputs": [],
   "source": [
    "%load_ext autoreload \n",
    "%autoreload 2\n",
    "%matplotlib inline "
   ]
  },
  {
   "cell_type": "code",
   "execution_count": 2,
   "id": "ae2b2307",
   "metadata": {},
   "outputs": [],
   "source": [
    "import sys\n",
    "sys.path.append('../../')"
   ]
  },
  {
   "cell_type": "code",
   "execution_count": 3,
   "id": "b7bb53ac",
   "metadata": {},
   "outputs": [],
   "source": [
    "import math\n",
    "import torch\n",
    "from torch import nn\n",
    "from torch.nn import functional as F"
   ]
  },
  {
   "cell_type": "code",
   "execution_count": 4,
   "id": "0047b77f",
   "metadata": {},
   "outputs": [],
   "source": [
    "from omd2l.data import TimeMachine\n"
   ]
  },
  {
   "cell_type": "code",
   "execution_count": 5,
   "id": "c4ed44ac",
   "metadata": {},
   "outputs": [],
   "source": [
    "from omd2l.models.base import Trainer\n"
   ]
  },
  {
   "cell_type": "code",
   "execution_count": 6,
   "id": "d4b7a78c",
   "metadata": {},
   "outputs": [],
   "source": [
    "from omd2l.models.RNN import RNNScratch\n",
    "from omd2l.models.RNN import RNNLMScratch\n",
    "from omd2l.models.RNN import RNN\n",
    "from omd2l.models.RNN import RNNLM"
   ]
  },
  {
   "cell_type": "code",
   "execution_count": 7,
   "id": "53944a10",
   "metadata": {},
   "outputs": [],
   "source": [
    "from omd2l.models.RNN import LSTMScratch\n",
    "from omd2l.models.RNN import LSTM"
   ]
  },
  {
   "cell_type": "code",
   "execution_count": 8,
   "id": "26882754",
   "metadata": {},
   "outputs": [],
   "source": [
    "from omd2l.models.RNN import GRUScratch\n",
    "from omd2l.models.RNN import GRU"
   ]
  },
  {
   "cell_type": "code",
   "execution_count": null,
   "id": "905a630b",
   "metadata": {},
   "outputs": [],
   "source": []
  },
  {
   "cell_type": "code",
   "execution_count": 9,
   "id": "1400b237",
   "metadata": {},
   "outputs": [],
   "source": [
    "from omd2l.models.RNN import StackedRNNScratch\n"
   ]
  },
  {
   "cell_type": "code",
   "execution_count": null,
   "id": "c830d0b4",
   "metadata": {},
   "outputs": [],
   "source": []
  },
  {
   "cell_type": "code",
   "execution_count": 10,
   "id": "68e81e62",
   "metadata": {},
   "outputs": [],
   "source": [
    "from omd2l.utils.compute import try_gpu"
   ]
  },
  {
   "cell_type": "code",
   "execution_count": 11,
   "id": "70ef82d0",
   "metadata": {},
   "outputs": [],
   "source": [
    "batch_size, num_inputs, num_hiddens, num_steps = 2, 16, 32, 100\n",
    "rnn = RNNScratch(num_inputs, num_hiddens)\n",
    "X = torch.ones((num_steps, batch_size, num_inputs))\n",
    "outputs, state = rnn(X)"
   ]
  },
  {
   "cell_type": "code",
   "execution_count": 12,
   "id": "228ef67c",
   "metadata": {},
   "outputs": [],
   "source": [
    "def check_len(a, n):  #@save\n",
    "    \"\"\"Check the length of a list.\"\"\"\n",
    "    assert len(a) == n, f'list\\'s length {len(a)} != expected length {n}'\n",
    "\n",
    "def check_shape(a, shape):  #@save\n",
    "    \"\"\"Check the shape of a tensor.\"\"\"\n",
    "    assert a.shape == shape, \\\n",
    "            f'tensor\\'s shape {a.shape} != expected shape {shape}'\n",
    "\n",
    "check_len(outputs, num_steps)\n",
    "check_shape(outputs[0], (batch_size, num_hiddens))\n",
    "check_shape(state, (batch_size, num_hiddens))"
   ]
  },
  {
   "cell_type": "code",
   "execution_count": null,
   "id": "ec70778b",
   "metadata": {},
   "outputs": [],
   "source": []
  },
  {
   "cell_type": "code",
   "execution_count": null,
   "id": "0d21de87",
   "metadata": {},
   "outputs": [],
   "source": []
  },
  {
   "cell_type": "markdown",
   "id": "a68ba957",
   "metadata": {},
   "source": [
    "## RNN"
   ]
  },
  {
   "cell_type": "markdown",
   "id": "bfe76adb",
   "metadata": {},
   "source": [
    "### From Scratch "
   ]
  },
  {
   "cell_type": "code",
   "execution_count": 13,
   "id": "90416e51",
   "metadata": {},
   "outputs": [
    {
     "ename": "TypeError",
     "evalue": "'module' object is not callable",
     "output_type": "error",
     "traceback": [
      "\u001b[0;31m---------------------------------------------------------------------------\u001b[0m",
      "\u001b[0;31mTypeError\u001b[0m                                 Traceback (most recent call last)",
      "Input \u001b[0;32mIn [13]\u001b[0m, in \u001b[0;36m<cell line: 1>\u001b[0;34m()\u001b[0m\n\u001b[0;32m----> 1\u001b[0m model \u001b[38;5;241m=\u001b[39m \u001b[43mRNNLMScratch\u001b[49m\u001b[43m(\u001b[49m\u001b[43mrnn\u001b[49m\u001b[43m,\u001b[49m\u001b[43m \u001b[49m\u001b[43mnum_inputs\u001b[49m\u001b[43m)\u001b[49m\n\u001b[1;32m      2\u001b[0m outputs \u001b[38;5;241m=\u001b[39m model(torch\u001b[38;5;241m.\u001b[39mones((batch_size, num_steps), dtype\u001b[38;5;241m=\u001b[39mtorch\u001b[38;5;241m.\u001b[39mint64))\n\u001b[1;32m      3\u001b[0m check_shape(outputs, (batch_size, num_steps, num_inputs))\n",
      "\u001b[0;31mTypeError\u001b[0m: 'module' object is not callable"
     ]
    }
   ],
   "source": [
    "model = RNNLMScratch(rnn, num_inputs)\n",
    "outputs = model(torch.ones((batch_size, num_steps), dtype=torch.int64))\n",
    "check_shape(outputs, (batch_size, num_steps, num_inputs))"
   ]
  },
  {
   "cell_type": "code",
   "execution_count": null,
   "id": "c52ffa61",
   "metadata": {},
   "outputs": [],
   "source": []
  },
  {
   "cell_type": "code",
   "execution_count": null,
   "id": "94371ff8",
   "metadata": {},
   "outputs": [],
   "source": [
    "data = TimeMachine(batch_size=1024, num_steps=32)\n",
    "rnn = RNNScratch(num_inputs=len(data.vocab), num_hiddens=32)\n",
    "model = RNNLMScratch(rnn, vocab_size=len(data.vocab), lr=1)\n",
    "trainer = Trainer(max_epochs=100, gradient_clip_val=1, num_gpus=1)\n",
    "trainer.fit(model, data)"
   ]
  },
  {
   "cell_type": "code",
   "execution_count": null,
   "id": "261ac6e6",
   "metadata": {},
   "outputs": [],
   "source": []
  },
  {
   "cell_type": "code",
   "execution_count": null,
   "id": "d96bd810",
   "metadata": {},
   "outputs": [],
   "source": [
    "model.predict('it has', 20, data.vocab, try_gpu())"
   ]
  },
  {
   "cell_type": "code",
   "execution_count": null,
   "id": "6fec41fa",
   "metadata": {},
   "outputs": [],
   "source": [
    "model.predict('what is your', 20, data.vocab, try_gpu())"
   ]
  },
  {
   "cell_type": "markdown",
   "id": "8bc4d6c0",
   "metadata": {},
   "source": [
    "### Consice implementation "
   ]
  },
  {
   "cell_type": "code",
   "execution_count": null,
   "id": "b4d2da7c",
   "metadata": {},
   "outputs": [],
   "source": [
    "rnn = RNN(num_inputs=len(data.vocab), num_hiddens=32)\n",
    "model = RNNLM(rnn, vocab_size=len(data.vocab), lr=1)\n",
    "model.predict('it has', 20, data.vocab)"
   ]
  },
  {
   "cell_type": "code",
   "execution_count": null,
   "id": "205e3bca",
   "metadata": {},
   "outputs": [],
   "source": [
    "trainer = Trainer(max_epochs=100, gradient_clip_val=1, num_gpus=1)\n",
    "trainer.fit(model, data)"
   ]
  },
  {
   "cell_type": "code",
   "execution_count": null,
   "id": "6897fbe0",
   "metadata": {},
   "outputs": [],
   "source": [
    "model.predict('it has', 20, data.vocab, try_gpu())"
   ]
  },
  {
   "cell_type": "code",
   "execution_count": null,
   "id": "73adb9f3",
   "metadata": {},
   "outputs": [],
   "source": []
  },
  {
   "cell_type": "markdown",
   "id": "7c2b6982",
   "metadata": {},
   "source": [
    "## LSTM"
   ]
  },
  {
   "cell_type": "code",
   "execution_count": null,
   "id": "aab14666",
   "metadata": {},
   "outputs": [],
   "source": [
    "lstm = LSTMScratch(num_inputs=len(data.vocab), num_hiddens=32)\n",
    "model = RNNLMScratch(lstm, vocab_size=len(data.vocab), lr=4)\n",
    "trainer = Trainer(max_epochs=50, gradient_clip_val=1, num_gpus=1)\n",
    "trainer.fit(model, data)"
   ]
  },
  {
   "cell_type": "code",
   "execution_count": null,
   "id": "13f363d7",
   "metadata": {},
   "outputs": [],
   "source": []
  },
  {
   "cell_type": "code",
   "execution_count": null,
   "id": "caabad6a",
   "metadata": {},
   "outputs": [],
   "source": []
  },
  {
   "cell_type": "code",
   "execution_count": null,
   "id": "11593d66",
   "metadata": {},
   "outputs": [],
   "source": []
  },
  {
   "cell_type": "code",
   "execution_count": null,
   "id": "ca1b4281",
   "metadata": {},
   "outputs": [],
   "source": []
  },
  {
   "cell_type": "code",
   "execution_count": null,
   "id": "a33d7171",
   "metadata": {},
   "outputs": [],
   "source": [
    "lstm = LSTM(num_inputs=len(data.vocab), num_hiddens=32)\n",
    "model = RNNLM(lstm, vocab_size=len(data.vocab), lr=4)\n",
    "trainer.fit(model, data)"
   ]
  },
  {
   "cell_type": "code",
   "execution_count": null,
   "id": "2881660a",
   "metadata": {},
   "outputs": [],
   "source": [
    "model.predict('it has', 20, data.vocab, try_gpu())"
   ]
  },
  {
   "cell_type": "code",
   "execution_count": null,
   "id": "52672698",
   "metadata": {},
   "outputs": [],
   "source": []
  },
  {
   "cell_type": "markdown",
   "id": "cd5eb55e",
   "metadata": {},
   "source": [
    "## GRU"
   ]
  },
  {
   "cell_type": "code",
   "execution_count": null,
   "id": "960dce6f",
   "metadata": {},
   "outputs": [],
   "source": [
    "data = TimeMachine(batch_size=1024, num_steps=32)\n",
    "gru = GRUScratch(num_inputs=len(data.vocab), num_hiddens=32)\n",
    "model = RNNLMScratch(gru, vocab_size=len(data.vocab), lr=4)\n",
    "trainer = Trainer(max_epochs=50, gradient_clip_val=1, num_gpus=1)\n",
    "trainer.fit(model, data)"
   ]
  },
  {
   "cell_type": "code",
   "execution_count": null,
   "id": "623d2686",
   "metadata": {},
   "outputs": [],
   "source": [
    "gru = GRU(num_inputs=len(data.vocab), num_hiddens=32, num_layers=1)\n",
    "model = RNNLM(gru, vocab_size=len(data.vocab), lr=4)\n",
    "trainer.fit(model, data)"
   ]
  },
  {
   "cell_type": "code",
   "execution_count": null,
   "id": "300c4c9f",
   "metadata": {},
   "outputs": [],
   "source": [
    "model.predict('it has', 20, data.vocab, try_gpu())"
   ]
  },
  {
   "cell_type": "code",
   "execution_count": null,
   "id": "7c76f669",
   "metadata": {},
   "outputs": [],
   "source": []
  },
  {
   "cell_type": "code",
   "execution_count": null,
   "id": "72b34fad",
   "metadata": {},
   "outputs": [],
   "source": []
  },
  {
   "cell_type": "code",
   "execution_count": null,
   "id": "8d6942b0",
   "metadata": {},
   "outputs": [],
   "source": []
  },
  {
   "cell_type": "code",
   "execution_count": null,
   "id": "551c25b8",
   "metadata": {},
   "outputs": [],
   "source": []
  },
  {
   "cell_type": "markdown",
   "id": "dd74e28d",
   "metadata": {},
   "source": [
    "## Deep RNN"
   ]
  },
  {
   "cell_type": "code",
   "execution_count": null,
   "id": "53c785bf",
   "metadata": {},
   "outputs": [],
   "source": [
    "rnn_block = StackedRNNScratch(num_inputs=len(data.vocab),\n",
    "                              num_hiddens=32, num_layers=2)\n",
    "model = RNNLMScratch(rnn_block, vocab_size=len(data.vocab), lr=2)\n",
    "trainer = Trainer(max_epochs=100, gradient_clip_val=1, num_gpus=1)\n",
    "trainer.fit(model, data)"
   ]
  },
  {
   "cell_type": "code",
   "execution_count": null,
   "id": "fa401f34",
   "metadata": {},
   "outputs": [],
   "source": [
    "model.predict('it has', 20, data.vocab, try_gpu())"
   ]
  },
  {
   "cell_type": "code",
   "execution_count": null,
   "id": "a7acf9d9",
   "metadata": {},
   "outputs": [],
   "source": []
  },
  {
   "cell_type": "code",
   "execution_count": null,
   "id": "6a5a58b1",
   "metadata": {},
   "outputs": [],
   "source": [
    "gru = GRU(num_inputs=len(data.vocab), num_hiddens=32, num_layers=2)\n",
    "model = RNNLM(gru, vocab_size=len(data.vocab), lr=2)\n",
    "trainer.fit(model, data)"
   ]
  },
  {
   "cell_type": "code",
   "execution_count": null,
   "id": "5cf7d957",
   "metadata": {},
   "outputs": [],
   "source": []
  },
  {
   "cell_type": "code",
   "execution_count": null,
   "id": "294ce921",
   "metadata": {},
   "outputs": [],
   "source": [
    "model.predict('it has', 20, data.vocab, try_gpu())"
   ]
  },
  {
   "cell_type": "code",
   "execution_count": null,
   "id": "8fc102df",
   "metadata": {},
   "outputs": [],
   "source": [
    "model.predict('time machine', 20, data.vocab, try_gpu())"
   ]
  },
  {
   "cell_type": "code",
   "execution_count": null,
   "id": "bcbfa641",
   "metadata": {},
   "outputs": [],
   "source": []
  }
 ],
 "metadata": {
  "kernelspec": {
   "display_name": "Python 3.8 (pytorch)",
   "language": "python",
   "name": "pytorch"
  },
  "language_info": {
   "codemirror_mode": {
    "name": "ipython",
    "version": 3
   },
   "file_extension": ".py",
   "mimetype": "text/x-python",
   "name": "python",
   "nbconvert_exporter": "python",
   "pygments_lexer": "ipython3",
   "version": "3.8.13"
  },
  "toc": {
   "base_numbering": 1,
   "nav_menu": {},
   "number_sections": true,
   "sideBar": true,
   "skip_h1_title": false,
   "title_cell": "Table of Contents",
   "title_sidebar": "Contents",
   "toc_cell": false,
   "toc_position": {},
   "toc_section_display": true,
   "toc_window_display": true
  },
  "varInspector": {
   "cols": {
    "lenName": 16,
    "lenType": 16,
    "lenVar": 40
   },
   "kernels_config": {
    "python": {
     "delete_cmd_postfix": "",
     "delete_cmd_prefix": "del ",
     "library": "var_list.py",
     "varRefreshCmd": "print(var_dic_list())"
    },
    "r": {
     "delete_cmd_postfix": ") ",
     "delete_cmd_prefix": "rm(",
     "library": "var_list.r",
     "varRefreshCmd": "cat(var_dic_list()) "
    }
   },
   "types_to_exclude": [
    "module",
    "function",
    "builtin_function_or_method",
    "instance",
    "_Feature"
   ],
   "window_display": false
  }
 },
 "nbformat": 4,
 "nbformat_minor": 5
}
