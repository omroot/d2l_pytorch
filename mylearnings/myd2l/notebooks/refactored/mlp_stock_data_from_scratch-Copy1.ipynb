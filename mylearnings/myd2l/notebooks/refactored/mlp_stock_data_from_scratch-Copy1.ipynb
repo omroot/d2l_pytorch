{
 "cells": [
  {
   "cell_type": "code",
   "execution_count": null,
   "id": "7bc3f309",
   "metadata": {},
   "outputs": [],
   "source": []
  },
  {
   "cell_type": "code",
   "execution_count": null,
   "id": "e9a908bc",
   "metadata": {},
   "outputs": [],
   "source": []
  },
  {
   "cell_type": "code",
   "execution_count": 1,
   "id": "8005116c",
   "metadata": {},
   "outputs": [],
   "source": [
    "%load_ext autoreload\n",
    "%autoreload 2"
   ]
  },
  {
   "cell_type": "code",
   "execution_count": 2,
   "id": "44655747",
   "metadata": {},
   "outputs": [],
   "source": [
    "%matplotlib inline\n",
    "import pandas as pd\n",
    "import numpy as np\n",
    "import torch\n",
    "from torch import nn\n",
    "import torch.optim as optim\n",
    "from torch.utils.data import TensorDataset, Dataset, DataLoader\n",
    "from sklearn.metrics import accuracy_score, confusion_matrix\n"
   ]
  },
  {
   "cell_type": "code",
   "execution_count": 3,
   "id": "1a48cbd4",
   "metadata": {},
   "outputs": [],
   "source": [
    "import matplotlib.pyplot as plt"
   ]
  },
  {
   "cell_type": "code",
   "execution_count": 4,
   "id": "eed2dba9",
   "metadata": {},
   "outputs": [],
   "source": [
    "import sys \n",
    "import pickle"
   ]
  },
  {
   "cell_type": "code",
   "execution_count": 5,
   "id": "aeb837f5",
   "metadata": {},
   "outputs": [],
   "source": [
    "sys.path.append('../../')"
   ]
  },
  {
   "cell_type": "code",
   "execution_count": null,
   "id": "dc42d0e9",
   "metadata": {},
   "outputs": [],
   "source": []
  },
  {
   "cell_type": "code",
   "execution_count": 6,
   "id": "e3acd348",
   "metadata": {},
   "outputs": [],
   "source": [
    "from omd2l.data.StocksData import StocksData\n",
    "from omd2l.models.linear import SoftmaxRegressionTabular\n",
    "from omd2l.models.MLP import DropoutMLP\n",
    "from omd2l.models.base.Trainer import Trainer"
   ]
  },
  {
   "cell_type": "code",
   "execution_count": null,
   "id": "243df055",
   "metadata": {},
   "outputs": [],
   "source": []
  },
  {
   "cell_type": "code",
   "execution_count": 7,
   "id": "0475aef5",
   "metadata": {},
   "outputs": [],
   "source": [
    "with open(\"./feat_alpha_df.pickle\", \"rb\") as handle:\n",
    "    data = pickle.load(handle)"
   ]
  },
  {
   "cell_type": "code",
   "execution_count": 8,
   "id": "0067ee14",
   "metadata": {},
   "outputs": [],
   "source": [
    "data['ff_alpha_direction'] = 1.0*(data['ff_alpha']>0)"
   ]
  },
  {
   "cell_type": "code",
   "execution_count": 9,
   "id": "86079368",
   "metadata": {},
   "outputs": [],
   "source": [
    "FEATURES = [ \n",
    " 'px_rank',\n",
    " 'range',\n",
    " 'prior_ret',\n",
    " 'DollarVolume',\n",
    " 'Beta',\n",
    " 'SecBeta',\n",
    " 'market_relative_prior_ret',\n",
    " 'sector_relative_prior_ret' ]\n",
    "RESPONSE = ['ff_alpha_direction']"
   ]
  },
  {
   "cell_type": "code",
   "execution_count": 10,
   "id": "4c6bee25",
   "metadata": {},
   "outputs": [],
   "source": [
    "data['tradeDate'] = pd.to_datetime(data['date']).dt.date"
   ]
  },
  {
   "cell_type": "code",
   "execution_count": 11,
   "id": "5d810807",
   "metadata": {},
   "outputs": [],
   "source": [
    "data[FEATURES] = data.groupby('tradeDate')[FEATURES].apply(\n",
    "    lambda x: (x - x.mean()) / (x.std())).copy()"
   ]
  },
  {
   "cell_type": "code",
   "execution_count": 12,
   "id": "c6f5d614",
   "metadata": {},
   "outputs": [
    {
     "data": {
      "text/plain": [
       "<AxesSubplot:>"
      ]
     },
     "execution_count": 12,
     "metadata": {},
     "output_type": "execute_result"
    },
    {
     "data": {
      "image/png": "[encoded data removed]",
      "text/plain": [
       "<Figure size 432x288 with 1 Axes>"
      ]
     },
     "metadata": {
      "needs_background": "light"
     },
     "output_type": "display_data"
    }
   ],
   "source": [
    "data['range'].hist(bins=100)"
   ]
  },
  {
   "cell_type": "code",
   "execution_count": 13,
   "id": "4401ff23",
   "metadata": {},
   "outputs": [],
   "source": [
    "data = StocksData(batch_size=1000,features=FEATURES, response=RESPONSE)"
   ]
  },
  {
   "cell_type": "code",
   "execution_count": 14,
   "id": "93caac2a",
   "metadata": {},
   "outputs": [],
   "source": [
    "data.preprocess()"
   ]
  },
  {
   "cell_type": "code",
   "execution_count": 15,
   "id": "d67f7540",
   "metadata": {},
   "outputs": [],
   "source": [
    "from sklearn.model_selection import KFold"
   ]
  },
  {
   "cell_type": "code",
   "execution_count": 16,
   "id": "23e1d761",
   "metadata": {},
   "outputs": [],
   "source": [
    "with open(\"./feat_alpha_df.pickle\", \"rb\") as handle:\n",
    "    dataset = pickle.load(handle)\n",
    "dataset['ff_alpha_direction'] = 1.0*(dataset['ff_alpha']>0)\n",
    "dataset['tradeDate'] = pd.to_datetime(dataset['date']).dt.date\n",
    "dataset.sort_values(by = 'tradeDate',ascending=True, inplace = True)\n",
    "dataset.reset_index(drop = True, inplace = True)"
   ]
  },
  {
   "cell_type": "code",
   "execution_count": null,
   "id": "e48db2a5",
   "metadata": {},
   "outputs": [],
   "source": []
  },
  {
   "cell_type": "code",
   "execution_count": null,
   "id": "15fa0798",
   "metadata": {},
   "outputs": [],
   "source": []
  },
  {
   "cell_type": "code",
   "execution_count": 17,
   "id": "efbfe472",
   "metadata": {},
   "outputs": [],
   "source": [
    "import math\n",
    "\n",
    "def divisorGenerator(n):\n",
    "    large_divisors = []\n",
    "    for i in range(1, int(math.sqrt(n) + 1)):\n",
    "        if n % i == 0:\n",
    "            yield i\n",
    "            if i*i != n:\n",
    "                large_divisors.append(n / i)\n",
    "    for divisor in reversed(large_divisors):\n",
    "        yield divisor"
   ]
  },
  {
   "cell_type": "code",
   "execution_count": 18,
   "id": "3747c88e",
   "metadata": {},
   "outputs": [],
   "source": [
    "def k_fold_data(data, k):\n",
    "    rets = []\n",
    "    fold_size = data.dataset.shape[0] // k\n",
    "    for j in range(k):\n",
    "        idx = range(j * fold_size, (j+1) * fold_size)\n",
    "        train_data = data.dataset.drop(index=idx).copy(deep=True)\n",
    "        train_data.reset_index(inplace = True)\n",
    "        divisors = list(divisorGenerator(train_data.shape[0]))\n",
    "\n",
    "        test_data = data.dataset.loc[idx]\n",
    "        test_data.reset_index(inplace = True)\n",
    "        fold_data = StocksData(batch_size=  10000, \n",
    "                               features=FEATURES, \n",
    "                               response=RESPONSE,\n",
    "                                raw_train=train_data,\n",
    "                                raw_val=test_data)\n",
    "        fold_data.preprocess()\n",
    "        rets.append(fold_data)\n",
    "    return rets"
   ]
  },
  {
   "cell_type": "code",
   "execution_count": null,
   "id": "a3aca382",
   "metadata": {},
   "outputs": [],
   "source": []
  },
  {
   "cell_type": "code",
   "execution_count": 19,
   "id": "26ab19fb",
   "metadata": {},
   "outputs": [],
   "source": [
    " def validation_epoch(trained_model,\n",
    "                 validation_dataloader,\n",
    "                \n",
    "                 device):\n",
    "    validation_loss, validation_correct_predictions = 0.0, 0\n",
    "    trained_model.eval()\n",
    "    with torch.no_grad():\n",
    "        for validation_data, validation_labels in validation_dataloader:\n",
    "            validation_data, validation_labels = validation_data.to(device),validation_labels.to(device)\n",
    "            output = trained_model(validation_data)\n",
    "            loss=trained_model.loss(output,validation_labels)\n",
    "            validation_loss+=loss.item()*validation_data.size(0)\n",
    "            scores, predictions = torch.max(output.data,1)\n",
    "            validation_correct_predictions+=np.diag(confusion_matrix(y_pred= predictions  , \n",
    "                                                                     y_true =  validation_labels ) ).sum()\n",
    "\n",
    "    return validation_loss,validation_correct_predictions"
   ]
  },
  {
   "cell_type": "code",
   "execution_count": 20,
   "id": "dcaf1f9c",
   "metadata": {},
   "outputs": [],
   "source": [
    "def k_fold(trainer, data, k, model ):\n",
    "    val_loss, val_acc, models = [], [], [] \n",
    "    for i, data_fold in enumerate(k_fold_data(data, k)):\n",
    "        print(f\"Fold: {i}\" )\n",
    "        model.board.yscale='log'\n",
    "        model.board.display = False\n",
    "        trainer.fit(model, data_fold)\n",
    "#         val_loss.append(float(model.board.data['val_loss'][-1].y))\n",
    "        \n",
    "        validation_loss,validation_correct_predictions =  validation_epoch(model,\n",
    "                 data_fold.val_dataloader(),\n",
    "                \n",
    "                 device='cpu')\n",
    "        \n",
    "        print(f\"Validation loss: {validation_loss}\")\n",
    "        print(f\"Validation accuracy: {validation_correct_predictions/data_fold.val.shape[0]}\")\n",
    "              \n",
    "        val_loss.append(validation_loss)\n",
    "        val_acc.append(validation_correct_predictions/data_fold.val.shape[0])\n",
    "        \n",
    "        models.append(model)\n",
    "    avg_val_log_loss = sum(val_loss)/len(val_loss)\n",
    "    avg_val_acc = sum(val_acc)/len(val_acc)\n",
    "    return models, avg_val_log_loss, avg_val_acc"
   ]
  },
  {
   "cell_type": "code",
   "execution_count": null,
   "id": "9bdde317",
   "metadata": {},
   "outputs": [],
   "source": []
  },
  {
   "cell_type": "code",
   "execution_count": 21,
   "id": "3f61170c",
   "metadata": {},
   "outputs": [
    {
     "name": "stderr",
     "output_type": "stream",
     "text": [
      "/Users/oualid/opt/miniconda3/envs/pytorch/lib/python3.8/site-packages/torch/nn/modules/lazy.py:180: UserWarning: Lazy modules are a new feature under heavy development so changes to the API or functionality can happen at any moment.\n",
      "  warnings.warn('Lazy modules are a new feature under heavy development '\n"
     ]
    }
   ],
   "source": [
    "lr_hparams = {'num_outputs':2,'lr':0.001}\n",
    "lr_model = SoftmaxRegressionTabular(**lr_hparams)"
   ]
  },
  {
   "cell_type": "code",
   "execution_count": 22,
   "id": "5d381e45",
   "metadata": {},
   "outputs": [],
   "source": [
    "mlp_hparams = {'num_outputs':2, \n",
    "               'num_hiddens_1':10, \n",
    "               'num_hiddens_2':10,\n",
    "               'dropout_1':0.1, \n",
    "               'dropout_2':0.1, \n",
    "               'lr':0.001}"
   ]
  },
  {
   "cell_type": "code",
   "execution_count": 23,
   "id": "1d184b8f",
   "metadata": {},
   "outputs": [],
   "source": [
    "mlp_model = DropoutMLP(**mlp_hparams)"
   ]
  },
  {
   "cell_type": "code",
   "execution_count": 24,
   "id": "4a95c921",
   "metadata": {
    "scrolled": false
   },
   "outputs": [
    {
     "name": "stdout",
     "output_type": "stream",
     "text": [
      "Model: lr\n",
      "Fold: 0\n",
      "Validation loss: nan\n",
      "Validation accuracy: 0.5189003436426117\n",
      "Fold: 1\n",
      "Validation loss: nan\n",
      "Validation accuracy: 0.47344064060169877\n",
      "Fold: 2\n",
      "Validation loss: nan\n",
      "Validation accuracy: 0.4724923815081372\n",
      "Fold: 3\n",
      "Validation loss: nan\n",
      "Validation accuracy: 0.4659680347532905\n",
      "Fold: 4\n",
      "Validation loss: nan\n",
      "Validation accuracy: 0.46723238021137264\n",
      "lr: average validation loss = nan, accuracy = 0.4796067561434222\n",
      "Model: mlp\n",
      "Fold: 0\n",
      "Validation loss: nan\n",
      "Validation accuracy: 0.4816264669649225\n",
      "Fold: 1\n",
      "Validation loss: nan\n",
      "Validation accuracy: 0.47344064060169877\n",
      "Fold: 2\n",
      "Validation loss: nan\n",
      "Validation accuracy: 0.4724923815081372\n",
      "Fold: 3\n",
      "Validation loss: nan\n",
      "Validation accuracy: 0.4659680347532905\n",
      "Fold: 4\n",
      "Validation loss: nan\n",
      "Validation accuracy: 0.46723238021137264\n",
      "mlp: average validation loss = nan, accuracy = 0.47215198080788434\n"
     ]
    }
   ],
   "source": [
    "mdls = {'lr': lr_model, 'mlp': mlp_model}\n",
    "# mdls = {'mlp': mlp_model}\n",
    "\n",
    "for name, mdl in mdls.items():\n",
    "    print(f\"Model: {name}\")\n",
    "    trainer = Trainer(max_epochs=10)\n",
    "    models, avg_val_log_loss , avg_val_acc= k_fold(trainer, data, k=5, model=mdl)\n",
    "    print(f'{name}: average validation loss = {avg_val_log_loss}, accuracy = {avg_val_acc}')\n"
   ]
  },
  {
   "cell_type": "code",
   "execution_count": 25,
   "id": "d96372cd",
   "metadata": {},
   "outputs": [
    {
     "ename": "NameError",
     "evalue": "name 'BREAK' is not defined",
     "output_type": "error",
     "traceback": [
      "\u001b[0;31m---------------------------------------------------------------------------\u001b[0m",
      "\u001b[0;31mNameError\u001b[0m                                 Traceback (most recent call last)",
      "Input \u001b[0;32mIn [25]\u001b[0m, in \u001b[0;36m<cell line: 1>\u001b[0;34m()\u001b[0m\n\u001b[0;32m----> 1\u001b[0m \u001b[43mBREAK\u001b[49m\n",
      "\u001b[0;31mNameError\u001b[0m: name 'BREAK' is not defined"
     ]
    }
   ],
   "source": [
    "BREAK"
   ]
  },
  {
   "cell_type": "code",
   "execution_count": null,
   "id": "887fa0db",
   "metadata": {},
   "outputs": [],
   "source": [
    "k=5\n",
    "for name, model in mdls.items():\n",
    "    print(f\"Model: {name}\")\n",
    "    trainer = Trainer(max_epochs=10)\n",
    "    val_loss, models = [], []\n",
    "    for i, data_fold in enumerate(k_fold_data(data, k)):\n",
    "        print(f\"Fold: {i}\" )\n",
    "        model.board.yscale='log'\n",
    "        if i != 0: model.board.display = False\n",
    "        trainer.fit(model, data_fold)\n",
    "        if i==0:\n",
    "            break\n",
    "        val_loss.append(float(model.board.data['val_loss'][-1].y))\n",
    "        models.append(model)\n",
    "    avg_val_log_loss = sum(val_loss)/len(val_loss)"
   ]
  },
  {
   "cell_type": "code",
   "execution_count": null,
   "id": "a942b9a2",
   "metadata": {},
   "outputs": [],
   "source": [
    "model.board.data['val_loss'][-1].y"
   ]
  },
  {
   "cell_type": "code",
   "execution_count": null,
   "id": "e4d9284b",
   "metadata": {},
   "outputs": [],
   "source": [
    "model.board.data['val_acc'][-1].y"
   ]
  },
  {
   "cell_type": "code",
   "execution_count": null,
   "id": "25861f19",
   "metadata": {},
   "outputs": [],
   "source": [
    "X, y = next(iter(data_fold.val_dataloader()))\n",
    "preds = model(X).argmax(axis=1)\n",
    "preds.shape"
   ]
  },
  {
   "cell_type": "code",
   "execution_count": null,
   "id": "642c6785",
   "metadata": {},
   "outputs": [],
   "source": [
    "yhat = model(data_fold.val)"
   ]
  },
  {
   "cell_type": "code",
   "execution_count": null,
   "id": "a788583a",
   "metadata": {},
   "outputs": [],
   "source": []
  },
  {
   "cell_type": "code",
   "execution_count": null,
   "id": "07597e24",
   "metadata": {},
   "outputs": [],
   "source": []
  },
  {
   "cell_type": "code",
   "execution_count": null,
   "id": "fe591d5a",
   "metadata": {},
   "outputs": [],
   "source": [
    "kfold = KFold(n_splits=5, shuffle=True)\n",
    "# # K-fold Cross Validation model evaluation\n",
    "history = {'train_loss': [], 'test_loss': [],'train_acc':[],'test_acc':[]}\n",
    "\n",
    "for fold, (train_ids, test_ids) in enumerate(kfold.split(dataset)):\n",
    "\n",
    "    # Print\n",
    "    print(f'FOLD {fold}')\n",
    "    print('--------------------------------')\n",
    "    \n",
    "    train_data = dataset.iloc[train_ids,:]\n",
    "    test_data = dataset.iloc[test_ids,:]\n",
    "    \n",
    "#     data.x = data.x.to(torch.float)\n",
    "\n",
    "\n",
    "    \n",
    "    train_tensors = TensorDataset(torch.from_numpy(train_data[FEATURES].values).to(torch.float) ,  # X\n",
    "                                torch.from_numpy(train_data[RESPONSE].values).to(torch.float) )   # Y\n",
    "\n",
    "    train_loader = torch.utils.data.DataLoader( train_tensors,\n",
    "                                           batch_size=1000,\n",
    "                                           shuffle=True )\n",
    "    \n",
    "    test_tensors = TensorDataset(torch.from_numpy(test_data[FEATURES].values).to(torch.float) ,  # X\n",
    "                                torch.from_numpy(test_data[RESPONSE].values).to(torch.float) )   # Y\n",
    "\n",
    "    test_loader = torch.utils.data.DataLoader( test_tensors,\n",
    "                                           batch_size=1000,\n",
    "                                           shuffle=True )   \n",
    "    \n",
    "    trainer.fit(model, train_loader)\n"
   ]
  },
  {
   "cell_type": "code",
   "execution_count": null,
   "id": "bc21094f",
   "metadata": {},
   "outputs": [],
   "source": []
  }
 ],
 "metadata": {
  "kernelspec": {
   "display_name": "Python 3.8 (pytorch)",
   "language": "python",
   "name": "pytorch"
  },
  "language_info": {
   "codemirror_mode": {
    "name": "ipython",
    "version": 3
   },
   "file_extension": ".py",
   "mimetype": "text/x-python",
   "name": "python",
   "nbconvert_exporter": "python",
   "pygments_lexer": "ipython3",
   "version": "3.8.13"
  },
  "toc": {
   "base_numbering": 1,
   "nav_menu": {},
   "number_sections": true,
   "sideBar": true,
   "skip_h1_title": false,
   "title_cell": "Table of Contents",
   "title_sidebar": "Contents",
   "toc_cell": false,
   "toc_position": {},
   "toc_section_display": true,
   "toc_window_display": true
  },
  "varInspector": {
   "cols": {
    "lenName": 16,
    "lenType": 16,
    "lenVar": 40
   },
   "kernels_config": {
    "python": {
     "delete_cmd_postfix": "",
     "delete_cmd_prefix": "del ",
     "library": "var_list.py",
     "varRefreshCmd": "print(var_dic_list())"
    },
    "r": {
     "delete_cmd_postfix": ") ",
     "delete_cmd_prefix": "rm(",
     "library": "var_list.r",
     "varRefreshCmd": "cat(var_dic_list()) "
    }
   },
   "types_to_exclude": [
    "module",
    "function",
    "builtin_function_or_method",
    "instance",
    "_Feature"
   ],
   "window_display": false
  }
 },
 "nbformat": 4,
 "nbformat_minor": 5
}
