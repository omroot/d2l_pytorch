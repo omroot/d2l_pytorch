{
 "cells": [
  {
   "cell_type": "code",
   "execution_count": 15,
   "id": "44655747",
   "metadata": {},
   "outputs": [],
   "source": [
    "%matplotlib inline\n",
    "import math\n",
    "import time\n",
    "import numpy as np\n",
    "from sklearn.linear_model import LinearRegression as SK_LinearRegression\n",
    "import  statsmodels.api as sm \n",
    "import torch\n"
   ]
  },
  {
   "cell_type": "code",
   "execution_count": 2,
   "id": "eed2dba9",
   "metadata": {},
   "outputs": [],
   "source": [
    "import sys "
   ]
  },
  {
   "cell_type": "code",
   "execution_count": 3,
   "id": "114465d5",
   "metadata": {},
   "outputs": [],
   "source": [
    "sys.path.append('../../')"
   ]
  },
  {
   "cell_type": "code",
   "execution_count": null,
   "id": "92c83b70",
   "metadata": {},
   "outputs": [],
   "source": []
  },
  {
   "cell_type": "code",
   "execution_count": 4,
   "id": "4e88bbe3",
   "metadata": {},
   "outputs": [],
   "source": [
    "from omd2l.data.DataModule import SyntheticRegressionData"
   ]
  },
  {
   "cell_type": "code",
   "execution_count": 5,
   "id": "65e77d67",
   "metadata": {},
   "outputs": [],
   "source": [
    "from omd2l.models.base.Trainer import Trainer"
   ]
  },
  {
   "cell_type": "code",
   "execution_count": 6,
   "id": "a6110a25",
   "metadata": {},
   "outputs": [],
   "source": [
    "from omd2l.models.linear.LinearRegressionScratch import LinearRegressionScratch\n",
    "from omd2l.models.linear.LinearRegression import LinearRegression"
   ]
  },
  {
   "cell_type": "markdown",
   "id": "8a1e403b",
   "metadata": {},
   "source": [
    "## Generate Synthetic data "
   ]
  },
  {
   "cell_type": "code",
   "execution_count": 7,
   "id": "f5d4a519",
   "metadata": {
    "scrolled": true
   },
   "outputs": [],
   "source": [
    "# help(d2l.SyntheticRegressionData)"
   ]
  },
  {
   "cell_type": "code",
   "execution_count": 8,
   "id": "c2e10377",
   "metadata": {},
   "outputs": [],
   "source": [
    "synthetic_data_weights = torch.tensor([2, -3.4, 1, -8, 4, 3, -9, 1,  2, -6])\n",
    "synthetic_data_b = 4.2\n",
    "num_dim =  synthetic_data_weights.shape[0]"
   ]
  },
  {
   "cell_type": "code",
   "execution_count": 9,
   "id": "5e918c39",
   "metadata": {},
   "outputs": [
    {
     "data": {
      "text/plain": [
       "10"
      ]
     },
     "execution_count": 9,
     "metadata": {},
     "output_type": "execute_result"
    }
   ],
   "source": [
    "num_dim"
   ]
  },
  {
   "cell_type": "code",
   "execution_count": 10,
   "id": "477f462d",
   "metadata": {},
   "outputs": [],
   "source": [
    "data = SyntheticRegressionData(w=synthetic_data_weights, \n",
    "                                   b=synthetic_data_b,\n",
    "                                  num_train=1000,\n",
    "                                  num_val=1000,\n",
    "                                  batch_size=100,\n",
    "                                  noise=0.5)"
   ]
  },
  {
   "cell_type": "code",
   "execution_count": 11,
   "id": "ddd267c7",
   "metadata": {},
   "outputs": [],
   "source": [
    "data.X = data.X[:,:8]\n",
    "num_dim =  data.X.shape[1]"
   ]
  },
  {
   "cell_type": "code",
   "execution_count": 12,
   "id": "5f9f644a",
   "metadata": {},
   "outputs": [
    {
     "data": {
      "text/plain": [
       "torch.Size([2000, 1])"
      ]
     },
     "execution_count": 12,
     "metadata": {},
     "output_type": "execute_result"
    }
   ],
   "source": [
    "data.y.shape"
   ]
  },
  {
   "cell_type": "code",
   "execution_count": null,
   "id": "a3455e56",
   "metadata": {},
   "outputs": [],
   "source": []
  },
  {
   "cell_type": "markdown",
   "id": "8abf8d18",
   "metadata": {},
   "source": [
    "## Linear regression using sklearn "
   ]
  },
  {
   "cell_type": "code",
   "execution_count": 13,
   "id": "91afd503",
   "metadata": {},
   "outputs": [],
   "source": [
    "nX = data.X.detach().numpy()\n",
    "ny = data.y.detach().numpy()"
   ]
  },
  {
   "cell_type": "code",
   "execution_count": null,
   "id": "6705c1a9",
   "metadata": {},
   "outputs": [],
   "source": []
  },
  {
   "cell_type": "code",
   "execution_count": 16,
   "id": "878d706c",
   "metadata": {},
   "outputs": [
    {
     "data": {
      "text/html": [
       "<style>#sk-container-id-1 {color: black;background-color: white;}#sk-container-id-1 pre{padding: 0;}#sk-container-id-1 div.sk-toggleable {background-color: white;}#sk-container-id-1 label.sk-toggleable__label {cursor: pointer;display: block;width: 100%;margin-bottom: 0;padding: 0.3em;box-sizing: border-box;text-align: center;}#sk-container-id-1 label.sk-toggleable__label-arrow:before {content: \"▸\";float: left;margin-right: 0.25em;color: #696969;}#sk-container-id-1 label.sk-toggleable__label-arrow:hover:before {color: black;}#sk-container-id-1 div.sk-estimator:hover label.sk-toggleable__label-arrow:before {color: black;}#sk-container-id-1 div.sk-toggleable__content {max-height: 0;max-width: 0;overflow: hidden;text-align: left;background-color: #f0f8ff;}#sk-container-id-1 div.sk-toggleable__content pre {margin: 0.2em;color: black;border-radius: 0.25em;background-color: #f0f8ff;}#sk-container-id-1 input.sk-toggleable__control:checked~div.sk-toggleable__content {max-height: 200px;max-width: 100%;overflow: auto;}#sk-container-id-1 input.sk-toggleable__control:checked~label.sk-toggleable__label-arrow:before {content: \"▾\";}#sk-container-id-1 div.sk-estimator input.sk-toggleable__control:checked~label.sk-toggleable__label {background-color: #d4ebff;}#sk-container-id-1 div.sk-label input.sk-toggleable__control:checked~label.sk-toggleable__label {background-color: #d4ebff;}#sk-container-id-1 input.sk-hidden--visually {border: 0;clip: rect(1px 1px 1px 1px);clip: rect(1px, 1px, 1px, 1px);height: 1px;margin: -1px;overflow: hidden;padding: 0;position: absolute;width: 1px;}#sk-container-id-1 div.sk-estimator {font-family: monospace;background-color: #f0f8ff;border: 1px dotted black;border-radius: 0.25em;box-sizing: border-box;margin-bottom: 0.5em;}#sk-container-id-1 div.sk-estimator:hover {background-color: #d4ebff;}#sk-container-id-1 div.sk-parallel-item::after {content: \"\";width: 100%;border-bottom: 1px solid gray;flex-grow: 1;}#sk-container-id-1 div.sk-label:hover label.sk-toggleable__label {background-color: #d4ebff;}#sk-container-id-1 div.sk-serial::before {content: \"\";position: absolute;border-left: 1px solid gray;box-sizing: border-box;top: 0;bottom: 0;left: 50%;z-index: 0;}#sk-container-id-1 div.sk-serial {display: flex;flex-direction: column;align-items: center;background-color: white;padding-right: 0.2em;padding-left: 0.2em;position: relative;}#sk-container-id-1 div.sk-item {position: relative;z-index: 1;}#sk-container-id-1 div.sk-parallel {display: flex;align-items: stretch;justify-content: center;background-color: white;position: relative;}#sk-container-id-1 div.sk-item::before, #sk-container-id-1 div.sk-parallel-item::before {content: \"\";position: absolute;border-left: 1px solid gray;box-sizing: border-box;top: 0;bottom: 0;left: 50%;z-index: -1;}#sk-container-id-1 div.sk-parallel-item {display: flex;flex-direction: column;z-index: 1;position: relative;background-color: white;}#sk-container-id-1 div.sk-parallel-item:first-child::after {align-self: flex-end;width: 50%;}#sk-container-id-1 div.sk-parallel-item:last-child::after {align-self: flex-start;width: 50%;}#sk-container-id-1 div.sk-parallel-item:only-child::after {width: 0;}#sk-container-id-1 div.sk-dashed-wrapped {border: 1px dashed gray;margin: 0 0.4em 0.5em 0.4em;box-sizing: border-box;padding-bottom: 0.4em;background-color: white;}#sk-container-id-1 div.sk-label label {font-family: monospace;font-weight: bold;display: inline-block;line-height: 1.2em;}#sk-container-id-1 div.sk-label-container {text-align: center;}#sk-container-id-1 div.sk-container {/* jupyter's `normalize.less` sets `[hidden] { display: none; }` but bootstrap.min.css set `[hidden] { display: none !important; }` so we also need the `!important` here to be able to override the default hidden behavior on the sphinx rendered scikit-learn.org. See: https://github.com/scikit-learn/scikit-learn/issues/21755 */display: inline-block !important;position: relative;}#sk-container-id-1 div.sk-text-repr-fallback {display: none;}</style><div id=\"sk-container-id-1\" class=\"sk-top-container\"><div class=\"sk-text-repr-fallback\"><pre>LinearRegression()</pre><b>In a Jupyter environment, please rerun this cell to show the HTML representation or trust the notebook. <br />On GitHub, the HTML representation is unable to render, please try loading this page with nbviewer.org.</b></div><div class=\"sk-container\" hidden><div class=\"sk-item\"><div class=\"sk-estimator sk-toggleable\"><input class=\"sk-toggleable__control sk-hidden--visually\" id=\"sk-estimator-id-1\" type=\"checkbox\" checked><label for=\"sk-estimator-id-1\" class=\"sk-toggleable__label sk-toggleable__label-arrow\">LinearRegression</label><div class=\"sk-toggleable__content\"><pre>LinearRegression()</pre></div></div></div></div></div>"
      ],
      "text/plain": [
       "LinearRegression()"
      ]
     },
     "execution_count": 16,
     "metadata": {},
     "output_type": "execute_result"
    }
   ],
   "source": [
    "sk_model = SK_LinearRegression()\n",
    "sk_model.fit(nX, ny)"
   ]
  },
  {
   "cell_type": "code",
   "execution_count": 17,
   "id": "ad1b8c18",
   "metadata": {},
   "outputs": [
    {
     "data": {
      "text/plain": [
       "(array([[ 2.0946848, -3.20293  ,  1.1671394, -7.928155 ,  3.9679625,\n",
       "          3.0076163, -8.947926 ,  0.9252963]], dtype=float32),\n",
       " array([4.1609044], dtype=float32))"
      ]
     },
     "execution_count": 17,
     "metadata": {},
     "output_type": "execute_result"
    }
   ],
   "source": [
    "sk_model.coef_, sk_model.intercept_"
   ]
  },
  {
   "cell_type": "markdown",
   "id": "b6079ffa",
   "metadata": {},
   "source": [
    "## Linear regression using statsmodels"
   ]
  },
  {
   "cell_type": "code",
   "execution_count": null,
   "id": "5a3ca2f1",
   "metadata": {},
   "outputs": [],
   "source": [
    "sm_mdl = sm.OLS(endog=ny, exog=sm.add_constant(nX)).fit()"
   ]
  },
  {
   "cell_type": "code",
   "execution_count": null,
   "id": "47188c0d",
   "metadata": {},
   "outputs": [],
   "source": [
    "sm_mdl.params"
   ]
  },
  {
   "cell_type": "markdown",
   "id": "6faf0a8e",
   "metadata": {},
   "source": [
    "## Linear Regression from scratch "
   ]
  },
  {
   "cell_type": "code",
   "execution_count": null,
   "id": "638e740b",
   "metadata": {},
   "outputs": [],
   "source": [
    "model_scratch = LinearRegressionScratch(num_inputs=num_dim, lr=0.01)\n",
    "trainer = Trainer(max_epochs=100)\n",
    "trainer.fit(model_scratch, data)"
   ]
  },
  {
   "cell_type": "code",
   "execution_count": null,
   "id": "098efd10",
   "metadata": {},
   "outputs": [],
   "source": [
    "model_scratch.w, model_scratch.b"
   ]
  },
  {
   "cell_type": "code",
   "execution_count": null,
   "id": "ea32e0ee",
   "metadata": {},
   "outputs": [],
   "source": []
  },
  {
   "cell_type": "markdown",
   "id": "94f6dcaf",
   "metadata": {},
   "source": [
    "## Linear Regression based on pytorch"
   ]
  },
  {
   "cell_type": "code",
   "execution_count": null,
   "id": "f7be6dd9",
   "metadata": {},
   "outputs": [],
   "source": [
    "model = LinearRegression(lr=0.01)\n",
    "trainer = Trainer(max_epochs=100)\n",
    "trainer.fit(model, data)"
   ]
  },
  {
   "cell_type": "code",
   "execution_count": null,
   "id": "6af6b567",
   "metadata": {},
   "outputs": [],
   "source": [
    "model.get_w_b()"
   ]
  },
  {
   "cell_type": "code",
   "execution_count": null,
   "id": "6e6b1d63",
   "metadata": {},
   "outputs": [],
   "source": []
  },
  {
   "cell_type": "code",
   "execution_count": null,
   "id": "9bdac3c5",
   "metadata": {},
   "outputs": [],
   "source": []
  },
  {
   "cell_type": "code",
   "execution_count": null,
   "id": "76614c04",
   "metadata": {},
   "outputs": [],
   "source": []
  }
 ],
 "metadata": {
  "kernelspec": {
   "display_name": "Python 3.8 (pytorch)",
   "language": "python",
   "name": "pytorch"
  },
  "language_info": {
   "codemirror_mode": {
    "name": "ipython",
    "version": 3
   },
   "file_extension": ".py",
   "mimetype": "text/x-python",
   "name": "python",
   "nbconvert_exporter": "python",
   "pygments_lexer": "ipython3",
   "version": "3.8.13"
  },
  "toc": {
   "base_numbering": 1,
   "nav_menu": {},
   "number_sections": true,
   "sideBar": true,
   "skip_h1_title": false,
   "title_cell": "Table of Contents",
   "title_sidebar": "Contents",
   "toc_cell": false,
   "toc_position": {},
   "toc_section_display": true,
   "toc_window_display": true
  },
  "varInspector": {
   "cols": {
    "lenName": 16,
    "lenType": 16,
    "lenVar": 40
   },
   "kernels_config": {
    "python": {
     "delete_cmd_postfix": "",
     "delete_cmd_prefix": "del ",
     "library": "var_list.py",
     "varRefreshCmd": "print(var_dic_list())"
    },
    "r": {
     "delete_cmd_postfix": ") ",
     "delete_cmd_prefix": "rm(",
     "library": "var_list.r",
     "varRefreshCmd": "cat(var_dic_list()) "
    }
   },
   "types_to_exclude": [
    "module",
    "function",
    "builtin_function_or_method",
    "instance",
    "_Feature"
   ],
   "window_display": false
  }
 },
 "nbformat": 4,
 "nbformat_minor": 5
}
