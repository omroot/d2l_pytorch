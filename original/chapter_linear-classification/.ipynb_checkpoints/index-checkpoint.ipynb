{
 "cells": [
  {
   "cell_type": "markdown",
   "id": "38876a4f",
   "metadata": {
    "origin_pos": 0
   },
   "source": [
    "# Linear Neural Networks for Classification\n",
    ":label:`chap_classification`\n",
    "\n",
    "Now that you have worked through all of the mechanics\n",
    "you are ready to apply these skills to broader kinds of tasks.\n",
    "Even as we pivot towards classification,\n",
    "most of the plumbing remains the same:\n",
    "loading the data, passing it through the model,\n",
    "generating output, calculating the loss,\n",
    "taking gradients with respect to weights,\n",
    "and updating the model.\n",
    "However, the precise form of the targets,\n",
    "the parameterization of the output layer,\n",
    "and the choice of loss function will adapt\n",
    "to suit the *classification* setting.\n",
    "\n",
    ":begin_tab:toc\n",
    " - [softmax-regression](softmax-regression.ipynb)\n",
    " - [image-classification-dataset](image-classification-dataset.ipynb)\n",
    " - [classification](classification.ipynb)\n",
    " - [softmax-regression-scratch](softmax-regression-scratch.ipynb)\n",
    " - [softmax-regression-concise](softmax-regression-concise.ipynb)\n",
    " - [generalization-classification](generalization-classification.ipynb)\n",
    " - [environment-and-distribution-shift](environment-and-distribution-shift.ipynb)\n",
    ":end_tab:\n"
   ]
  }
 ],
 "metadata": {
  "kernelspec": {
   "display_name": "Python 3 (ipykernel)",
   "language": "python",
   "name": "python3"
  },
  "language_info": {
   "codemirror_mode": {
    "name": "ipython",
    "version": 3
   },
   "file_extension": ".py",
   "mimetype": "text/x-python",
   "name": "python",
   "nbconvert_exporter": "python",
   "pygments_lexer": "ipython3",
   "version": "3.9.12"
  },
  "toc": {
   "base_numbering": 1,
   "nav_menu": {},
   "number_sections": true,
   "sideBar": true,
   "skip_h1_title": false,
   "title_cell": "Table of Contents",
   "title_sidebar": "Contents",
   "toc_cell": false,
   "toc_position": {},
   "toc_section_display": true,
   "toc_window_display": false
  },
  "varInspector": {
   "cols": {
    "lenName": 16,
    "lenType": 16,
    "lenVar": 40
   },
   "kernels_config": {
    "python": {
     "delete_cmd_postfix": "",
     "delete_cmd_prefix": "del ",
     "library": "var_list.py",
     "varRefreshCmd": "print(var_dic_list())"
    },
    "r": {
     "delete_cmd_postfix": ") ",
     "delete_cmd_prefix": "rm(",
     "library": "var_list.r",
     "varRefreshCmd": "cat(var_dic_list()) "
    }
   },
   "types_to_exclude": [
    "module",
    "function",
    "builtin_function_or_method",
    "instance",
    "_Feature"
   ],
   "window_display": false
  }
 },
 "nbformat": 4,
 "nbformat_minor": 5
}
